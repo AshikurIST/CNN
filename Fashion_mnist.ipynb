{
 "cells": [
  {
   "cell_type": "code",
   "execution_count": 1,
   "id": "3f539993",
   "metadata": {},
   "outputs": [
    {
     "name": "stdout",
     "output_type": "stream",
     "text": [
      "WARNING:tensorflow:From C:\\Users\\hi\\anaconda3\\Lib\\site-packages\\keras\\src\\losses.py:2976: The name tf.losses.sparse_softmax_cross_entropy is deprecated. Please use tf.compat.v1.losses.sparse_softmax_cross_entropy instead.\n",
      "\n",
      "2.15.0\n"
     ]
    }
   ],
   "source": [
    "import tensorflow as tf\n",
    "\n",
    "print(tf.__version__)"
   ]
  },
  {
   "cell_type": "markdown",
   "id": "bb668e7c",
   "metadata": {},
   "source": [
    "# additional import"
   ]
  },
  {
   "cell_type": "code",
   "execution_count": 2,
   "id": "d6d0faf5",
   "metadata": {},
   "outputs": [],
   "source": [
    "import numpy as np\n",
    "import pandas as pd\n",
    "import seaborn as sns\n",
    "import matplotlib.pyplot as plt"
   ]
  },
  {
   "cell_type": "code",
   "execution_count": 3,
   "id": "4a06f117",
   "metadata": {},
   "outputs": [],
   "source": [
    "from tensorflow.keras.layers import Input, Conv2D, Dense, Flatten, Dropout\n",
    "from tensorflow.keras.models import Model"
   ]
  },
  {
   "cell_type": "markdown",
   "id": "f68c6942",
   "metadata": {},
   "source": [
    "# Load the data set"
   ]
  },
  {
   "cell_type": "code",
   "execution_count": 9,
   "id": "12b9bfc9",
   "metadata": {},
   "outputs": [
    {
     "name": "stdout",
     "output_type": "stream",
     "text": [
      "x_train.shape:  (60000, 28, 28)\n"
     ]
    }
   ],
   "source": [
    "fashion_mnist= tf.keras.datasets.fashion_mnist\n",
    "\n",
    "(X_train, y_train), (X_test, y_test)= fashion_mnist.load_data()\n",
    "X_train, X_test= X_train / 255.0, X_test/ 255.0\n",
    "print(\"x_train.shape: \",X_train.shape)"
   ]
  },
  {
   "cell_type": "code",
   "execution_count": 10,
   "id": "223a6c53",
   "metadata": {},
   "outputs": [
    {
     "name": "stdout",
     "output_type": "stream",
     "text": [
      "(60000, 28, 28, 1)\n",
      "(10000, 28, 28, 1)\n"
     ]
    }
   ],
   "source": [
    "# the data is only 2D\n",
    "# convolution expects height x width x color\n",
    "\n",
    "X_train= np.expand_dims(X_train,-1)\n",
    "X_test= np.expand_dims(X_test,-1)\n",
    "print(X_train.shape)\n",
    "print(X_test.shape)"
   ]
  },
  {
   "cell_type": "code",
   "execution_count": null,
   "id": "d58d5f44",
   "metadata": {},
   "outputs": [],
   "source": [
    "# number of classes\n",
    "\n",
    "K=  len(set(y_train))\n",
    "print(\"number of classes: \",K)"
   ]
  },
  {
   "cell_type": "markdown",
   "id": "6c447bdf",
   "metadata": {},
   "source": [
    "# Build the CNN model using the functional API"
   ]
  },
  {
   "cell_type": "code",
   "execution_count": 14,
   "id": "37d16e63",
   "metadata": {},
   "outputs": [],
   "source": [
    "# i is the input\n",
    "# x is the output\n",
    "\n",
    "i= Input(shape= X_train[0].shape)\n",
    "\n",
    "x= Conv2D(32,(3,3), strides=2, activation='relu')(i)\n",
    "x= Conv2D(64,(3,3), strides=2, activation='relu')(x)\n",
    "x= Conv2D(128,(3,3), strides=2, activation='relu')(x)\n",
    "\n",
    "x= Flatten()(x)\n",
    "x= Dropout(0.2)(x)\n",
    "x= Dense(521, activation='relu')(x)\n",
    "x= Dropout(0.2)(x)\n",
    "x= Dense(K, activation='softmax')(x)\n",
    "\n",
    "model= Model(i,x)"
   ]
  },
  {
   "cell_type": "markdown",
   "id": "320f5d78",
   "metadata": {},
   "source": [
    "# Compile and fit"
   ]
  },
  {
   "cell_type": "code",
   "execution_count": 16,
   "id": "411cc957",
   "metadata": {},
   "outputs": [
    {
     "name": "stdout",
     "output_type": "stream",
     "text": [
      "Epoch 1/15\n",
      "WARNING:tensorflow:From C:\\Users\\hi\\anaconda3\\Lib\\site-packages\\keras\\src\\utils\\tf_utils.py:492: The name tf.ragged.RaggedTensorValue is deprecated. Please use tf.compat.v1.ragged.RaggedTensorValue instead.\n",
      "\n",
      "WARNING:tensorflow:From C:\\Users\\hi\\anaconda3\\Lib\\site-packages\\keras\\src\\engine\\base_layer_utils.py:384: The name tf.executing_eagerly_outside_functions is deprecated. Please use tf.compat.v1.executing_eagerly_outside_functions instead.\n",
      "\n",
      "1875/1875 [==============================] - 14s 7ms/step - loss: 0.5187 - accuracy: 0.8083 - val_loss: 0.4036 - val_accuracy: 0.8441\n",
      "Epoch 2/15\n",
      "1875/1875 [==============================] - 15s 8ms/step - loss: 0.3600 - accuracy: 0.8642 - val_loss: 0.3592 - val_accuracy: 0.8667\n",
      "Epoch 3/15\n",
      "1875/1875 [==============================] - 15s 8ms/step - loss: 0.3098 - accuracy: 0.8835 - val_loss: 0.3130 - val_accuracy: 0.8837\n",
      "Epoch 4/15\n",
      "1875/1875 [==============================] - 15s 8ms/step - loss: 0.2795 - accuracy: 0.8946 - val_loss: 0.3164 - val_accuracy: 0.8866\n",
      "Epoch 5/15\n",
      "1875/1875 [==============================] - 16s 8ms/step - loss: 0.2530 - accuracy: 0.9040 - val_loss: 0.2949 - val_accuracy: 0.8932\n",
      "Epoch 6/15\n",
      "1875/1875 [==============================] - 15s 8ms/step - loss: 0.2307 - accuracy: 0.9127 - val_loss: 0.2973 - val_accuracy: 0.8926\n",
      "Epoch 7/15\n",
      "1875/1875 [==============================] - 15s 8ms/step - loss: 0.2120 - accuracy: 0.9196 - val_loss: 0.2890 - val_accuracy: 0.8965\n",
      "Epoch 8/15\n",
      "1875/1875 [==============================] - 16s 8ms/step - loss: 0.1958 - accuracy: 0.9250 - val_loss: 0.2970 - val_accuracy: 0.8993\n",
      "Epoch 9/15\n",
      "1875/1875 [==============================] - 15s 8ms/step - loss: 0.1838 - accuracy: 0.9290 - val_loss: 0.3009 - val_accuracy: 0.9005\n",
      "Epoch 10/15\n",
      "1875/1875 [==============================] - 16s 8ms/step - loss: 0.1727 - accuracy: 0.9346 - val_loss: 0.3100 - val_accuracy: 0.8988\n",
      "Epoch 11/15\n",
      "1875/1875 [==============================] - 15s 8ms/step - loss: 0.1597 - accuracy: 0.9386 - val_loss: 0.3045 - val_accuracy: 0.8994\n",
      "Epoch 12/15\n",
      "1875/1875 [==============================] - 15s 8ms/step - loss: 0.1511 - accuracy: 0.9424 - val_loss: 0.3433 - val_accuracy: 0.8988\n",
      "Epoch 13/15\n",
      "1875/1875 [==============================] - 15s 8ms/step - loss: 0.1436 - accuracy: 0.9449 - val_loss: 0.3340 - val_accuracy: 0.8994\n",
      "Epoch 14/15\n",
      "1875/1875 [==============================] - 15s 8ms/step - loss: 0.1336 - accuracy: 0.9491 - val_loss: 0.3297 - val_accuracy: 0.8995\n",
      "Epoch 15/15\n",
      "1875/1875 [==============================] - 16s 8ms/step - loss: 0.1246 - accuracy: 0.9513 - val_loss: 0.3493 - val_accuracy: 0.9008\n"
     ]
    }
   ],
   "source": [
    "model.compile(optimizer='adam',\n",
    "             loss='sparse_categorical_crossentropy',\n",
    "             metrics=['accuracy'])\n",
    "\n",
    "r=model.fit(X_train,y_train, validation_data=(X_test,y_test), epochs=15)"
   ]
  },
  {
   "cell_type": "code",
   "execution_count": null,
   "id": "9872cae7",
   "metadata": {},
   "outputs": [],
   "source": []
  }
 ],
 "metadata": {
  "kernelspec": {
   "display_name": "Python 3 (ipykernel)",
   "language": "python",
   "name": "python3"
  },
  "language_info": {
   "codemirror_mode": {
    "name": "ipython",
    "version": 3
   },
   "file_extension": ".py",
   "mimetype": "text/x-python",
   "name": "python",
   "nbconvert_exporter": "python",
   "pygments_lexer": "ipython3",
   "version": "3.11.4"
  }
 },
 "nbformat": 4,
 "nbformat_minor": 5
}
