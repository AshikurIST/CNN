{
 "cells": [
  {
   "cell_type": "code",
   "execution_count": 1,
   "id": "5041c2f9",
   "metadata": {},
   "outputs": [],
   "source": [
    "import pandas as pd\n",
    "import numpy as np"
   ]
  },
  {
   "cell_type": "code",
   "execution_count": 2,
   "id": "ca335299",
   "metadata": {},
   "outputs": [],
   "source": [
    "import matplotlib.pyplot as plt\n",
    "import seaborn as sns"
   ]
  },
  {
   "cell_type": "code",
   "execution_count": 3,
   "id": "6cf4008f",
   "metadata": {},
   "outputs": [
    {
     "name": "stdout",
     "output_type": "stream",
     "text": [
      "WARNING:tensorflow:From C:\\Users\\hi\\anaconda3\\Lib\\site-packages\\keras\\src\\losses.py:2976: The name tf.losses.sparse_softmax_cross_entropy is deprecated. Please use tf.compat.v1.losses.sparse_softmax_cross_entropy instead.\n",
      "\n"
     ]
    }
   ],
   "source": [
    "import tensorflow as tf"
   ]
  },
  {
   "cell_type": "markdown",
   "id": "edd6343c",
   "metadata": {},
   "source": [
    "# load the data set from sklean"
   ]
  },
  {
   "cell_type": "code",
   "execution_count": 4,
   "id": "b9bae5fe",
   "metadata": {},
   "outputs": [],
   "source": [
    "from sklearn.datasets import load_breast_cancer"
   ]
  },
  {
   "cell_type": "code",
   "execution_count": 5,
   "id": "e691b72d",
   "metadata": {},
   "outputs": [],
   "source": [
    "data=load_breast_cancer()"
   ]
  },
  {
   "cell_type": "code",
   "execution_count": 7,
   "id": "ef7af08e",
   "metadata": {},
   "outputs": [
    {
     "data": {
      "text/plain": [
       "{'data': array([[1.799e+01, 1.038e+01, 1.228e+02, ..., 2.654e-01, 4.601e-01,\n",
       "         1.189e-01],\n",
       "        [2.057e+01, 1.777e+01, 1.329e+02, ..., 1.860e-01, 2.750e-01,\n",
       "         8.902e-02],\n",
       "        [1.969e+01, 2.125e+01, 1.300e+02, ..., 2.430e-01, 3.613e-01,\n",
       "         8.758e-02],\n",
       "        ...,\n",
       "        [1.660e+01, 2.808e+01, 1.083e+02, ..., 1.418e-01, 2.218e-01,\n",
       "         7.820e-02],\n",
       "        [2.060e+01, 2.933e+01, 1.401e+02, ..., 2.650e-01, 4.087e-01,\n",
       "         1.240e-01],\n",
       "        [7.760e+00, 2.454e+01, 4.792e+01, ..., 0.000e+00, 2.871e-01,\n",
       "         7.039e-02]]),\n",
       " 'target': array([0, 0, 0, 0, 0, 0, 0, 0, 0, 0, 0, 0, 0, 0, 0, 0, 0, 0, 0, 1, 1, 1,\n",
       "        0, 0, 0, 0, 0, 0, 0, 0, 0, 0, 0, 0, 0, 0, 0, 1, 0, 0, 0, 0, 0, 0,\n",
       "        0, 0, 1, 0, 1, 1, 1, 1, 1, 0, 0, 1, 0, 0, 1, 1, 1, 1, 0, 1, 0, 0,\n",
       "        1, 1, 1, 1, 0, 1, 0, 0, 1, 0, 1, 0, 0, 1, 1, 1, 0, 0, 1, 0, 0, 0,\n",
       "        1, 1, 1, 0, 1, 1, 0, 0, 1, 1, 1, 0, 0, 1, 1, 1, 1, 0, 1, 1, 0, 1,\n",
       "        1, 1, 1, 1, 1, 1, 1, 0, 0, 0, 1, 0, 0, 1, 1, 1, 0, 0, 1, 0, 1, 0,\n",
       "        0, 1, 0, 0, 1, 1, 0, 1, 1, 0, 1, 1, 1, 1, 0, 1, 1, 1, 1, 1, 1, 1,\n",
       "        1, 1, 0, 1, 1, 1, 1, 0, 0, 1, 0, 1, 1, 0, 0, 1, 1, 0, 0, 1, 1, 1,\n",
       "        1, 0, 1, 1, 0, 0, 0, 1, 0, 1, 0, 1, 1, 1, 0, 1, 1, 0, 0, 1, 0, 0,\n",
       "        0, 0, 1, 0, 0, 0, 1, 0, 1, 0, 1, 1, 0, 1, 0, 0, 0, 0, 1, 1, 0, 0,\n",
       "        1, 1, 1, 0, 1, 1, 1, 1, 1, 0, 0, 1, 1, 0, 1, 1, 0, 0, 1, 0, 1, 1,\n",
       "        1, 1, 0, 1, 1, 1, 1, 1, 0, 1, 0, 0, 0, 0, 0, 0, 0, 0, 0, 0, 0, 0,\n",
       "        0, 0, 1, 1, 1, 1, 1, 1, 0, 1, 0, 1, 1, 0, 1, 1, 0, 1, 0, 0, 1, 1,\n",
       "        1, 1, 1, 1, 1, 1, 1, 1, 1, 1, 1, 0, 1, 1, 0, 1, 0, 1, 1, 1, 1, 1,\n",
       "        1, 1, 1, 1, 1, 1, 1, 1, 1, 0, 1, 1, 1, 0, 1, 0, 1, 1, 1, 1, 0, 0,\n",
       "        0, 1, 1, 1, 1, 0, 1, 0, 1, 0, 1, 1, 1, 0, 1, 1, 1, 1, 1, 1, 1, 0,\n",
       "        0, 0, 1, 1, 1, 1, 1, 1, 1, 1, 1, 1, 1, 0, 0, 1, 0, 0, 0, 1, 0, 0,\n",
       "        1, 1, 1, 1, 1, 0, 1, 1, 1, 1, 1, 0, 1, 1, 1, 0, 1, 1, 0, 0, 1, 1,\n",
       "        1, 1, 1, 1, 0, 1, 1, 1, 1, 1, 1, 1, 0, 1, 1, 1, 1, 1, 0, 1, 1, 0,\n",
       "        1, 1, 1, 1, 1, 1, 1, 1, 1, 1, 1, 1, 0, 1, 0, 0, 1, 0, 1, 1, 1, 1,\n",
       "        1, 0, 1, 1, 0, 1, 0, 1, 1, 0, 1, 0, 1, 1, 1, 1, 1, 1, 1, 1, 0, 0,\n",
       "        1, 1, 1, 1, 1, 1, 0, 1, 1, 1, 1, 1, 1, 1, 1, 1, 1, 0, 1, 1, 1, 1,\n",
       "        1, 1, 1, 0, 1, 0, 1, 1, 0, 1, 1, 1, 1, 1, 0, 0, 1, 0, 1, 0, 1, 1,\n",
       "        1, 1, 1, 0, 1, 1, 0, 1, 0, 1, 0, 0, 1, 1, 1, 0, 1, 1, 1, 1, 1, 1,\n",
       "        1, 1, 1, 1, 1, 0, 1, 0, 0, 1, 1, 1, 1, 1, 1, 1, 1, 1, 1, 1, 1, 1,\n",
       "        1, 1, 1, 1, 1, 1, 1, 1, 1, 1, 1, 1, 0, 0, 0, 0, 0, 0, 1]),\n",
       " 'frame': None,\n",
       " 'target_names': array(['malignant', 'benign'], dtype='<U9'),\n",
       " 'DESCR': '.. _breast_cancer_dataset:\\n\\nBreast cancer wisconsin (diagnostic) dataset\\n--------------------------------------------\\n\\n**Data Set Characteristics:**\\n\\n    :Number of Instances: 569\\n\\n    :Number of Attributes: 30 numeric, predictive attributes and the class\\n\\n    :Attribute Information:\\n        - radius (mean of distances from center to points on the perimeter)\\n        - texture (standard deviation of gray-scale values)\\n        - perimeter\\n        - area\\n        - smoothness (local variation in radius lengths)\\n        - compactness (perimeter^2 / area - 1.0)\\n        - concavity (severity of concave portions of the contour)\\n        - concave points (number of concave portions of the contour)\\n        - symmetry\\n        - fractal dimension (\"coastline approximation\" - 1)\\n\\n        The mean, standard error, and \"worst\" or largest (mean of the three\\n        worst/largest values) of these features were computed for each image,\\n        resulting in 30 features.  For instance, field 0 is Mean Radius, field\\n        10 is Radius SE, field 20 is Worst Radius.\\n\\n        - class:\\n                - WDBC-Malignant\\n                - WDBC-Benign\\n\\n    :Summary Statistics:\\n\\n    ===================================== ====== ======\\n                                           Min    Max\\n    ===================================== ====== ======\\n    radius (mean):                        6.981  28.11\\n    texture (mean):                       9.71   39.28\\n    perimeter (mean):                     43.79  188.5\\n    area (mean):                          143.5  2501.0\\n    smoothness (mean):                    0.053  0.163\\n    compactness (mean):                   0.019  0.345\\n    concavity (mean):                     0.0    0.427\\n    concave points (mean):                0.0    0.201\\n    symmetry (mean):                      0.106  0.304\\n    fractal dimension (mean):             0.05   0.097\\n    radius (standard error):              0.112  2.873\\n    texture (standard error):             0.36   4.885\\n    perimeter (standard error):           0.757  21.98\\n    area (standard error):                6.802  542.2\\n    smoothness (standard error):          0.002  0.031\\n    compactness (standard error):         0.002  0.135\\n    concavity (standard error):           0.0    0.396\\n    concave points (standard error):      0.0    0.053\\n    symmetry (standard error):            0.008  0.079\\n    fractal dimension (standard error):   0.001  0.03\\n    radius (worst):                       7.93   36.04\\n    texture (worst):                      12.02  49.54\\n    perimeter (worst):                    50.41  251.2\\n    area (worst):                         185.2  4254.0\\n    smoothness (worst):                   0.071  0.223\\n    compactness (worst):                  0.027  1.058\\n    concavity (worst):                    0.0    1.252\\n    concave points (worst):               0.0    0.291\\n    symmetry (worst):                     0.156  0.664\\n    fractal dimension (worst):            0.055  0.208\\n    ===================================== ====== ======\\n\\n    :Missing Attribute Values: None\\n\\n    :Class Distribution: 212 - Malignant, 357 - Benign\\n\\n    :Creator:  Dr. William H. Wolberg, W. Nick Street, Olvi L. Mangasarian\\n\\n    :Donor: Nick Street\\n\\n    :Date: November, 1995\\n\\nThis is a copy of UCI ML Breast Cancer Wisconsin (Diagnostic) datasets.\\nhttps://goo.gl/U2Uwz2\\n\\nFeatures are computed from a digitized image of a fine needle\\naspirate (FNA) of a breast mass.  They describe\\ncharacteristics of the cell nuclei present in the image.\\n\\nSeparating plane described above was obtained using\\nMultisurface Method-Tree (MSM-T) [K. P. Bennett, \"Decision Tree\\nConstruction Via Linear Programming.\" Proceedings of the 4th\\nMidwest Artificial Intelligence and Cognitive Science Society,\\npp. 97-101, 1992], a classification method which uses linear\\nprogramming to construct a decision tree.  Relevant features\\nwere selected using an exhaustive search in the space of 1-4\\nfeatures and 1-3 separating planes.\\n\\nThe actual linear program used to obtain the separating plane\\nin the 3-dimensional space is that described in:\\n[K. P. Bennett and O. L. Mangasarian: \"Robust Linear\\nProgramming Discrimination of Two Linearly Inseparable Sets\",\\nOptimization Methods and Software 1, 1992, 23-34].\\n\\nThis database is also available through the UW CS ftp server:\\n\\nftp ftp.cs.wisc.edu\\ncd math-prog/cpo-dataset/machine-learn/WDBC/\\n\\n.. topic:: References\\n\\n   - W.N. Street, W.H. Wolberg and O.L. Mangasarian. Nuclear feature extraction \\n     for breast tumor diagnosis. IS&T/SPIE 1993 International Symposium on \\n     Electronic Imaging: Science and Technology, volume 1905, pages 861-870,\\n     San Jose, CA, 1993.\\n   - O.L. Mangasarian, W.N. Street and W.H. Wolberg. Breast cancer diagnosis and \\n     prognosis via linear programming. Operations Research, 43(4), pages 570-577, \\n     July-August 1995.\\n   - W.H. Wolberg, W.N. Street, and O.L. Mangasarian. Machine learning techniques\\n     to diagnose breast cancer from fine-needle aspirates. Cancer Letters 77 (1994) \\n     163-171.',\n",
       " 'feature_names': array(['mean radius', 'mean texture', 'mean perimeter', 'mean area',\n",
       "        'mean smoothness', 'mean compactness', 'mean concavity',\n",
       "        'mean concave points', 'mean symmetry', 'mean fractal dimension',\n",
       "        'radius error', 'texture error', 'perimeter error', 'area error',\n",
       "        'smoothness error', 'compactness error', 'concavity error',\n",
       "        'concave points error', 'symmetry error',\n",
       "        'fractal dimension error', 'worst radius', 'worst texture',\n",
       "        'worst perimeter', 'worst area', 'worst smoothness',\n",
       "        'worst compactness', 'worst concavity', 'worst concave points',\n",
       "        'worst symmetry', 'worst fractal dimension'], dtype='<U23'),\n",
       " 'filename': 'breast_cancer.csv',\n",
       " 'data_module': 'sklearn.datasets.data'}"
      ]
     },
     "execution_count": 7,
     "metadata": {},
     "output_type": "execute_result"
    }
   ],
   "source": [
    "data"
   ]
  },
  {
   "cell_type": "code",
   "execution_count": 9,
   "id": "6510bb64",
   "metadata": {},
   "outputs": [
    {
     "data": {
      "text/plain": [
       "sklearn.utils._bunch.Bunch"
      ]
     },
     "execution_count": 9,
     "metadata": {},
     "output_type": "execute_result"
    }
   ],
   "source": [
    "type(data)"
   ]
  },
  {
   "cell_type": "code",
   "execution_count": 11,
   "id": "cabcf4be",
   "metadata": {},
   "outputs": [
    {
     "data": {
      "text/plain": [
       "dict_keys(['data', 'target', 'frame', 'target_names', 'DESCR', 'feature_names', 'filename', 'data_module'])"
      ]
     },
     "execution_count": 11,
     "metadata": {},
     "output_type": "execute_result"
    }
   ],
   "source": [
    "data.keys()"
   ]
  },
  {
   "cell_type": "code",
   "execution_count": 12,
   "id": "1663ba6b",
   "metadata": {},
   "outputs": [
    {
     "data": {
      "text/plain": [
       "array([[1.799e+01, 1.038e+01, 1.228e+02, ..., 2.654e-01, 4.601e-01,\n",
       "        1.189e-01],\n",
       "       [2.057e+01, 1.777e+01, 1.329e+02, ..., 1.860e-01, 2.750e-01,\n",
       "        8.902e-02],\n",
       "       [1.969e+01, 2.125e+01, 1.300e+02, ..., 2.430e-01, 3.613e-01,\n",
       "        8.758e-02],\n",
       "       ...,\n",
       "       [1.660e+01, 2.808e+01, 1.083e+02, ..., 1.418e-01, 2.218e-01,\n",
       "        7.820e-02],\n",
       "       [2.060e+01, 2.933e+01, 1.401e+02, ..., 2.650e-01, 4.087e-01,\n",
       "        1.240e-01],\n",
       "       [7.760e+00, 2.454e+01, 4.792e+01, ..., 0.000e+00, 2.871e-01,\n",
       "        7.039e-02]])"
      ]
     },
     "execution_count": 12,
     "metadata": {},
     "output_type": "execute_result"
    }
   ],
   "source": [
    "data['data']"
   ]
  },
  {
   "cell_type": "code",
   "execution_count": 13,
   "id": "57500a3a",
   "metadata": {},
   "outputs": [
    {
     "data": {
      "text/plain": [
       "array([0, 0, 0, 0, 0, 0, 0, 0, 0, 0, 0, 0, 0, 0, 0, 0, 0, 0, 0, 1, 1, 1,\n",
       "       0, 0, 0, 0, 0, 0, 0, 0, 0, 0, 0, 0, 0, 0, 0, 1, 0, 0, 0, 0, 0, 0,\n",
       "       0, 0, 1, 0, 1, 1, 1, 1, 1, 0, 0, 1, 0, 0, 1, 1, 1, 1, 0, 1, 0, 0,\n",
       "       1, 1, 1, 1, 0, 1, 0, 0, 1, 0, 1, 0, 0, 1, 1, 1, 0, 0, 1, 0, 0, 0,\n",
       "       1, 1, 1, 0, 1, 1, 0, 0, 1, 1, 1, 0, 0, 1, 1, 1, 1, 0, 1, 1, 0, 1,\n",
       "       1, 1, 1, 1, 1, 1, 1, 0, 0, 0, 1, 0, 0, 1, 1, 1, 0, 0, 1, 0, 1, 0,\n",
       "       0, 1, 0, 0, 1, 1, 0, 1, 1, 0, 1, 1, 1, 1, 0, 1, 1, 1, 1, 1, 1, 1,\n",
       "       1, 1, 0, 1, 1, 1, 1, 0, 0, 1, 0, 1, 1, 0, 0, 1, 1, 0, 0, 1, 1, 1,\n",
       "       1, 0, 1, 1, 0, 0, 0, 1, 0, 1, 0, 1, 1, 1, 0, 1, 1, 0, 0, 1, 0, 0,\n",
       "       0, 0, 1, 0, 0, 0, 1, 0, 1, 0, 1, 1, 0, 1, 0, 0, 0, 0, 1, 1, 0, 0,\n",
       "       1, 1, 1, 0, 1, 1, 1, 1, 1, 0, 0, 1, 1, 0, 1, 1, 0, 0, 1, 0, 1, 1,\n",
       "       1, 1, 0, 1, 1, 1, 1, 1, 0, 1, 0, 0, 0, 0, 0, 0, 0, 0, 0, 0, 0, 0,\n",
       "       0, 0, 1, 1, 1, 1, 1, 1, 0, 1, 0, 1, 1, 0, 1, 1, 0, 1, 0, 0, 1, 1,\n",
       "       1, 1, 1, 1, 1, 1, 1, 1, 1, 1, 1, 0, 1, 1, 0, 1, 0, 1, 1, 1, 1, 1,\n",
       "       1, 1, 1, 1, 1, 1, 1, 1, 1, 0, 1, 1, 1, 0, 1, 0, 1, 1, 1, 1, 0, 0,\n",
       "       0, 1, 1, 1, 1, 0, 1, 0, 1, 0, 1, 1, 1, 0, 1, 1, 1, 1, 1, 1, 1, 0,\n",
       "       0, 0, 1, 1, 1, 1, 1, 1, 1, 1, 1, 1, 1, 0, 0, 1, 0, 0, 0, 1, 0, 0,\n",
       "       1, 1, 1, 1, 1, 0, 1, 1, 1, 1, 1, 0, 1, 1, 1, 0, 1, 1, 0, 0, 1, 1,\n",
       "       1, 1, 1, 1, 0, 1, 1, 1, 1, 1, 1, 1, 0, 1, 1, 1, 1, 1, 0, 1, 1, 0,\n",
       "       1, 1, 1, 1, 1, 1, 1, 1, 1, 1, 1, 1, 0, 1, 0, 0, 1, 0, 1, 1, 1, 1,\n",
       "       1, 0, 1, 1, 0, 1, 0, 1, 1, 0, 1, 0, 1, 1, 1, 1, 1, 1, 1, 1, 0, 0,\n",
       "       1, 1, 1, 1, 1, 1, 0, 1, 1, 1, 1, 1, 1, 1, 1, 1, 1, 0, 1, 1, 1, 1,\n",
       "       1, 1, 1, 0, 1, 0, 1, 1, 0, 1, 1, 1, 1, 1, 0, 0, 1, 0, 1, 0, 1, 1,\n",
       "       1, 1, 1, 0, 1, 1, 0, 1, 0, 1, 0, 0, 1, 1, 1, 0, 1, 1, 1, 1, 1, 1,\n",
       "       1, 1, 1, 1, 1, 0, 1, 0, 0, 1, 1, 1, 1, 1, 1, 1, 1, 1, 1, 1, 1, 1,\n",
       "       1, 1, 1, 1, 1, 1, 1, 1, 1, 1, 1, 1, 0, 0, 0, 0, 0, 0, 1])"
      ]
     },
     "execution_count": 13,
     "metadata": {},
     "output_type": "execute_result"
    }
   ],
   "source": [
    "data['target']"
   ]
  },
  {
   "cell_type": "code",
   "execution_count": 18,
   "id": "55588d3b",
   "metadata": {},
   "outputs": [
    {
     "data": {
      "text/plain": [
       "(569, 30)"
      ]
     },
     "execution_count": 18,
     "metadata": {},
     "output_type": "execute_result"
    }
   ],
   "source": [
    "data.data.shape"
   ]
  },
  {
   "cell_type": "code",
   "execution_count": 15,
   "id": "5bf54145",
   "metadata": {},
   "outputs": [
    {
     "data": {
      "text/plain": [
       "array(['malignant', 'benign'], dtype='<U9')"
      ]
     },
     "execution_count": 15,
     "metadata": {},
     "output_type": "execute_result"
    }
   ],
   "source": [
    "data['target_names']"
   ]
  },
  {
   "cell_type": "code",
   "execution_count": 16,
   "id": "0e7ee010",
   "metadata": {},
   "outputs": [
    {
     "data": {
      "text/plain": [
       "array(['mean radius', 'mean texture', 'mean perimeter', 'mean area',\n",
       "       'mean smoothness', 'mean compactness', 'mean concavity',\n",
       "       'mean concave points', 'mean symmetry', 'mean fractal dimension',\n",
       "       'radius error', 'texture error', 'perimeter error', 'area error',\n",
       "       'smoothness error', 'compactness error', 'concavity error',\n",
       "       'concave points error', 'symmetry error',\n",
       "       'fractal dimension error', 'worst radius', 'worst texture',\n",
       "       'worst perimeter', 'worst area', 'worst smoothness',\n",
       "       'worst compactness', 'worst concavity', 'worst concave points',\n",
       "       'worst symmetry', 'worst fractal dimension'], dtype='<U23')"
      ]
     },
     "execution_count": 16,
     "metadata": {},
     "output_type": "execute_result"
    }
   ],
   "source": [
    "data.feature_names"
   ]
  },
  {
   "cell_type": "code",
   "execution_count": 19,
   "id": "2d7bebf5",
   "metadata": {},
   "outputs": [
    {
     "data": {
      "text/plain": [
       "(30,)"
      ]
     },
     "execution_count": 19,
     "metadata": {},
     "output_type": "execute_result"
    }
   ],
   "source": [
    "data.feature_names.shape"
   ]
  },
  {
   "cell_type": "markdown",
   "id": "9bd5f452",
   "metadata": {},
   "source": [
    "#  Split the model"
   ]
  },
  {
   "cell_type": "code",
   "execution_count": 20,
   "id": "a3e42d67",
   "metadata": {},
   "outputs": [],
   "source": [
    "from sklearn.model_selection import train_test_split"
   ]
  },
  {
   "cell_type": "code",
   "execution_count": 21,
   "id": "4a3cab41",
   "metadata": {},
   "outputs": [],
   "source": [
    "X=data.data\n",
    "y=data.target"
   ]
  },
  {
   "cell_type": "code",
   "execution_count": 23,
   "id": "8c96ae1f",
   "metadata": {},
   "outputs": [],
   "source": [
    "X_train, X_test, y_train, y_test = train_test_split(X, y, test_size=0.33)"
   ]
  },
  {
   "cell_type": "markdown",
   "id": "1fc323c2",
   "metadata": {},
   "source": [
    "#  shape of the Xtrain"
   ]
  },
  {
   "cell_type": "code",
   "execution_count": 24,
   "id": "37d9c029",
   "metadata": {},
   "outputs": [],
   "source": [
    "N,D=X_train.shape"
   ]
  },
  {
   "cell_type": "code",
   "execution_count": 25,
   "id": "c3a448b1",
   "metadata": {},
   "outputs": [
    {
     "data": {
      "text/plain": [
       "(381, 30)"
      ]
     },
     "execution_count": 25,
     "metadata": {},
     "output_type": "execute_result"
    }
   ],
   "source": [
    "N,D"
   ]
  },
  {
   "cell_type": "markdown",
   "id": "2434ce6c",
   "metadata": {},
   "source": [
    "# Scaling the data"
   ]
  },
  {
   "cell_type": "code",
   "execution_count": 26,
   "id": "dcf1c3a8",
   "metadata": {},
   "outputs": [],
   "source": [
    "from sklearn.preprocessing import StandardScaler"
   ]
  },
  {
   "cell_type": "code",
   "execution_count": 27,
   "id": "72eeaacf",
   "metadata": {},
   "outputs": [],
   "source": [
    "scaler=StandardScaler()"
   ]
  },
  {
   "cell_type": "code",
   "execution_count": 28,
   "id": "a8ca1583",
   "metadata": {},
   "outputs": [],
   "source": [
    "X_train=scaler.fit_transform(X_train)\n",
    "X_test=scaler.transform(X_test)"
   ]
  },
  {
   "cell_type": "markdown",
   "id": "e5852961",
   "metadata": {},
   "source": [
    "# Create the TF model"
   ]
  },
  {
   "cell_type": "code",
   "execution_count": 30,
   "id": "dbc5b765",
   "metadata": {},
   "outputs": [
    {
     "name": "stdout",
     "output_type": "stream",
     "text": [
      "WARNING:tensorflow:From C:\\Users\\hi\\anaconda3\\Lib\\site-packages\\keras\\src\\backend.py:1398: The name tf.executing_eagerly_outside_functions is deprecated. Please use tf.compat.v1.executing_eagerly_outside_functions instead.\n",
      "\n"
     ]
    }
   ],
   "source": [
    "model=tf.keras.Sequential([\n",
    "    tf.keras.layers.Input(shape=(D,)),\n",
    "    tf.keras.layers.Dense(1, activation='sigmoid')    \n",
    "    \n",
    "])"
   ]
  },
  {
   "cell_type": "markdown",
   "id": "0d696d21",
   "metadata": {},
   "source": [
    "# Compile the model"
   ]
  },
  {
   "cell_type": "code",
   "execution_count": 31,
   "id": "6fa7080e",
   "metadata": {},
   "outputs": [
    {
     "name": "stdout",
     "output_type": "stream",
     "text": [
      "WARNING:tensorflow:From C:\\Users\\hi\\anaconda3\\Lib\\site-packages\\keras\\src\\optimizers\\__init__.py:309: The name tf.train.Optimizer is deprecated. Please use tf.compat.v1.train.Optimizer instead.\n",
      "\n"
     ]
    }
   ],
   "source": [
    "model.compile(optimizer='adam',\n",
    "             loss='binary_crosssentropy',\n",
    "              metrics=['accuracy']\n",
    "             )"
   ]
  },
  {
   "cell_type": "code",
   "execution_count": 35,
   "id": "7232a466",
   "metadata": {},
   "outputs": [],
   "source": [
    "#r = model.fit(X_train, y_train, validation_data=(X_test, y_test), epochs=100)"
   ]
  },
  {
   "cell_type": "code",
   "execution_count": 34,
   "id": "cc4fba37",
   "metadata": {},
   "outputs": [
    {
     "name": "stdout",
     "output_type": "stream",
     "text": [
      "Epoch 1/100\n",
      "WARNING:tensorflow:From C:\\Users\\hi\\anaconda3\\Lib\\site-packages\\keras\\src\\utils\\tf_utils.py:492: The name tf.ragged.RaggedTensorValue is deprecated. Please use tf.compat.v1.ragged.RaggedTensorValue instead.\n",
      "\n",
      "WARNING:tensorflow:From C:\\Users\\hi\\anaconda3\\Lib\\site-packages\\keras\\src\\engine\\base_layer_utils.py:384: The name tf.executing_eagerly_outside_functions is deprecated. Please use tf.compat.v1.executing_eagerly_outside_functions instead.\n",
      "\n",
      "12/12 [==============================] - 1s 29ms/step - loss: 0.6026 - accuracy: 0.7113 - val_loss: 0.6764 - val_accuracy: 0.6809\n",
      "Epoch 2/100\n",
      "12/12 [==============================] - 0s 9ms/step - loss: 0.5570 - accuracy: 0.7428 - val_loss: 0.6323 - val_accuracy: 0.7128\n",
      "Epoch 3/100\n",
      "12/12 [==============================] - 0s 9ms/step - loss: 0.5180 - accuracy: 0.7638 - val_loss: 0.5921 - val_accuracy: 0.7447\n",
      "Epoch 4/100\n",
      "12/12 [==============================] - 0s 8ms/step - loss: 0.4816 - accuracy: 0.7874 - val_loss: 0.5571 - val_accuracy: 0.7553\n",
      "Epoch 5/100\n",
      "12/12 [==============================] - 0s 7ms/step - loss: 0.4502 - accuracy: 0.8136 - val_loss: 0.5261 - val_accuracy: 0.7872\n",
      "Epoch 6/100\n",
      "12/12 [==============================] - 0s 8ms/step - loss: 0.4232 - accuracy: 0.8346 - val_loss: 0.4973 - val_accuracy: 0.8138\n",
      "Epoch 7/100\n",
      "12/12 [==============================] - 0s 7ms/step - loss: 0.3971 - accuracy: 0.8504 - val_loss: 0.4729 - val_accuracy: 0.8245\n",
      "Epoch 8/100\n",
      "12/12 [==============================] - 0s 7ms/step - loss: 0.3749 - accuracy: 0.8609 - val_loss: 0.4506 - val_accuracy: 0.8351\n",
      "Epoch 9/100\n",
      "12/12 [==============================] - 0s 6ms/step - loss: 0.3548 - accuracy: 0.8740 - val_loss: 0.4300 - val_accuracy: 0.8564\n",
      "Epoch 10/100\n",
      "12/12 [==============================] - 0s 6ms/step - loss: 0.3365 - accuracy: 0.8871 - val_loss: 0.4112 - val_accuracy: 0.8564\n",
      "Epoch 11/100\n",
      "12/12 [==============================] - 0s 7ms/step - loss: 0.3204 - accuracy: 0.8924 - val_loss: 0.3935 - val_accuracy: 0.8564\n",
      "Epoch 12/100\n",
      "12/12 [==============================] - 0s 7ms/step - loss: 0.3043 - accuracy: 0.8976 - val_loss: 0.3785 - val_accuracy: 0.8564\n",
      "Epoch 13/100\n",
      "12/12 [==============================] - 0s 7ms/step - loss: 0.2908 - accuracy: 0.9029 - val_loss: 0.3641 - val_accuracy: 0.8617\n",
      "Epoch 14/100\n",
      "12/12 [==============================] - 0s 7ms/step - loss: 0.2782 - accuracy: 0.9055 - val_loss: 0.3507 - val_accuracy: 0.8723\n",
      "Epoch 15/100\n",
      "12/12 [==============================] - 0s 8ms/step - loss: 0.2661 - accuracy: 0.9108 - val_loss: 0.3387 - val_accuracy: 0.8723\n",
      "Epoch 16/100\n",
      "12/12 [==============================] - 0s 5ms/step - loss: 0.2556 - accuracy: 0.9134 - val_loss: 0.3272 - val_accuracy: 0.8723\n",
      "Epoch 17/100\n",
      "12/12 [==============================] - 0s 6ms/step - loss: 0.2453 - accuracy: 0.9186 - val_loss: 0.3171 - val_accuracy: 0.8830\n",
      "Epoch 18/100\n",
      "12/12 [==============================] - 0s 6ms/step - loss: 0.2360 - accuracy: 0.9291 - val_loss: 0.3080 - val_accuracy: 0.8830\n",
      "Epoch 19/100\n",
      "12/12 [==============================] - 0s 7ms/step - loss: 0.2278 - accuracy: 0.9370 - val_loss: 0.2987 - val_accuracy: 0.8830\n",
      "Epoch 20/100\n",
      "12/12 [==============================] - 0s 7ms/step - loss: 0.2195 - accuracy: 0.9370 - val_loss: 0.2906 - val_accuracy: 0.8777\n",
      "Epoch 21/100\n",
      "12/12 [==============================] - 0s 6ms/step - loss: 0.2123 - accuracy: 0.9396 - val_loss: 0.2828 - val_accuracy: 0.8777\n",
      "Epoch 22/100\n",
      "12/12 [==============================] - 0s 7ms/step - loss: 0.2052 - accuracy: 0.9396 - val_loss: 0.2759 - val_accuracy: 0.8883\n",
      "Epoch 23/100\n",
      "12/12 [==============================] - 0s 7ms/step - loss: 0.1987 - accuracy: 0.9475 - val_loss: 0.2693 - val_accuracy: 0.8883\n",
      "Epoch 24/100\n",
      "12/12 [==============================] - 0s 8ms/step - loss: 0.1927 - accuracy: 0.9475 - val_loss: 0.2633 - val_accuracy: 0.8883\n",
      "Epoch 25/100\n",
      "12/12 [==============================] - 0s 6ms/step - loss: 0.1869 - accuracy: 0.9475 - val_loss: 0.2576 - val_accuracy: 0.8883\n",
      "Epoch 26/100\n",
      "12/12 [==============================] - 0s 7ms/step - loss: 0.1816 - accuracy: 0.9501 - val_loss: 0.2524 - val_accuracy: 0.8883\n",
      "Epoch 27/100\n",
      "12/12 [==============================] - 0s 7ms/step - loss: 0.1766 - accuracy: 0.9501 - val_loss: 0.2474 - val_accuracy: 0.8883\n",
      "Epoch 28/100\n",
      "12/12 [==============================] - 0s 6ms/step - loss: 0.1721 - accuracy: 0.9554 - val_loss: 0.2425 - val_accuracy: 0.8936\n",
      "Epoch 29/100\n",
      "12/12 [==============================] - 0s 7ms/step - loss: 0.1673 - accuracy: 0.9554 - val_loss: 0.2385 - val_accuracy: 0.8936\n",
      "Epoch 30/100\n",
      "12/12 [==============================] - 0s 6ms/step - loss: 0.1633 - accuracy: 0.9606 - val_loss: 0.2342 - val_accuracy: 0.8989\n",
      "Epoch 31/100\n",
      "12/12 [==============================] - 0s 7ms/step - loss: 0.1591 - accuracy: 0.9633 - val_loss: 0.2303 - val_accuracy: 0.8989\n",
      "Epoch 32/100\n",
      "12/12 [==============================] - 0s 6ms/step - loss: 0.1554 - accuracy: 0.9633 - val_loss: 0.2267 - val_accuracy: 0.8989\n",
      "Epoch 33/100\n",
      "12/12 [==============================] - 0s 6ms/step - loss: 0.1520 - accuracy: 0.9659 - val_loss: 0.2230 - val_accuracy: 0.8989\n",
      "Epoch 34/100\n",
      "12/12 [==============================] - 0s 7ms/step - loss: 0.1485 - accuracy: 0.9659 - val_loss: 0.2197 - val_accuracy: 0.8989\n",
      "Epoch 35/100\n",
      "12/12 [==============================] - 0s 6ms/step - loss: 0.1452 - accuracy: 0.9659 - val_loss: 0.2169 - val_accuracy: 0.8989\n",
      "Epoch 36/100\n",
      "12/12 [==============================] - 0s 6ms/step - loss: 0.1423 - accuracy: 0.9659 - val_loss: 0.2138 - val_accuracy: 0.9043\n",
      "Epoch 37/100\n",
      "12/12 [==============================] - 0s 6ms/step - loss: 0.1392 - accuracy: 0.9659 - val_loss: 0.2112 - val_accuracy: 0.9043\n",
      "Epoch 38/100\n",
      "12/12 [==============================] - 0s 7ms/step - loss: 0.1364 - accuracy: 0.9659 - val_loss: 0.2087 - val_accuracy: 0.9096\n",
      "Epoch 39/100\n",
      "12/12 [==============================] - 0s 6ms/step - loss: 0.1339 - accuracy: 0.9685 - val_loss: 0.2061 - val_accuracy: 0.9096\n",
      "Epoch 40/100\n",
      "12/12 [==============================] - 0s 6ms/step - loss: 0.1313 - accuracy: 0.9685 - val_loss: 0.2038 - val_accuracy: 0.9096\n",
      "Epoch 41/100\n",
      "12/12 [==============================] - 0s 6ms/step - loss: 0.1290 - accuracy: 0.9685 - val_loss: 0.2016 - val_accuracy: 0.9096\n",
      "Epoch 42/100\n",
      "12/12 [==============================] - 0s 6ms/step - loss: 0.1266 - accuracy: 0.9711 - val_loss: 0.1996 - val_accuracy: 0.9096\n",
      "Epoch 43/100\n",
      "12/12 [==============================] - 0s 6ms/step - loss: 0.1245 - accuracy: 0.9711 - val_loss: 0.1977 - val_accuracy: 0.9149\n",
      "Epoch 44/100\n",
      "12/12 [==============================] - 0s 6ms/step - loss: 0.1224 - accuracy: 0.9738 - val_loss: 0.1958 - val_accuracy: 0.9149\n",
      "Epoch 45/100\n",
      "12/12 [==============================] - 0s 6ms/step - loss: 0.1204 - accuracy: 0.9764 - val_loss: 0.1938 - val_accuracy: 0.9149\n",
      "Epoch 46/100\n",
      "12/12 [==============================] - 0s 6ms/step - loss: 0.1185 - accuracy: 0.9764 - val_loss: 0.1919 - val_accuracy: 0.9149\n",
      "Epoch 47/100\n",
      "12/12 [==============================] - 0s 6ms/step - loss: 0.1166 - accuracy: 0.9764 - val_loss: 0.1903 - val_accuracy: 0.9202\n",
      "Epoch 48/100\n",
      "12/12 [==============================] - 0s 6ms/step - loss: 0.1148 - accuracy: 0.9764 - val_loss: 0.1888 - val_accuracy: 0.9202\n",
      "Epoch 49/100\n",
      "12/12 [==============================] - 0s 6ms/step - loss: 0.1132 - accuracy: 0.9764 - val_loss: 0.1871 - val_accuracy: 0.9202\n",
      "Epoch 50/100\n",
      "12/12 [==============================] - 0s 6ms/step - loss: 0.1115 - accuracy: 0.9790 - val_loss: 0.1858 - val_accuracy: 0.9202\n",
      "Epoch 51/100\n",
      "12/12 [==============================] - 0s 6ms/step - loss: 0.1099 - accuracy: 0.9790 - val_loss: 0.1845 - val_accuracy: 0.9202\n",
      "Epoch 52/100\n",
      "12/12 [==============================] - 0s 6ms/step - loss: 0.1084 - accuracy: 0.9790 - val_loss: 0.1830 - val_accuracy: 0.9202\n",
      "Epoch 53/100\n",
      "12/12 [==============================] - 0s 6ms/step - loss: 0.1069 - accuracy: 0.9790 - val_loss: 0.1818 - val_accuracy: 0.9202\n",
      "Epoch 54/100\n",
      "12/12 [==============================] - 0s 6ms/step - loss: 0.1055 - accuracy: 0.9790 - val_loss: 0.1806 - val_accuracy: 0.9202\n",
      "Epoch 55/100\n"
     ]
    },
    {
     "name": "stdout",
     "output_type": "stream",
     "text": [
      "12/12 [==============================] - 0s 6ms/step - loss: 0.1042 - accuracy: 0.9790 - val_loss: 0.1796 - val_accuracy: 0.9255\n",
      "Epoch 56/100\n",
      "12/12 [==============================] - 0s 6ms/step - loss: 0.1028 - accuracy: 0.9790 - val_loss: 0.1785 - val_accuracy: 0.9255\n",
      "Epoch 57/100\n",
      "12/12 [==============================] - 0s 6ms/step - loss: 0.1016 - accuracy: 0.9790 - val_loss: 0.1774 - val_accuracy: 0.9255\n",
      "Epoch 58/100\n",
      "12/12 [==============================] - 0s 6ms/step - loss: 0.1003 - accuracy: 0.9790 - val_loss: 0.1762 - val_accuracy: 0.9255\n",
      "Epoch 59/100\n",
      "12/12 [==============================] - 0s 6ms/step - loss: 0.0991 - accuracy: 0.9816 - val_loss: 0.1751 - val_accuracy: 0.9255\n",
      "Epoch 60/100\n",
      "12/12 [==============================] - 0s 6ms/step - loss: 0.0980 - accuracy: 0.9816 - val_loss: 0.1742 - val_accuracy: 0.9255\n",
      "Epoch 61/100\n",
      "12/12 [==============================] - 0s 6ms/step - loss: 0.0969 - accuracy: 0.9816 - val_loss: 0.1731 - val_accuracy: 0.9255\n",
      "Epoch 62/100\n",
      "12/12 [==============================] - 0s 6ms/step - loss: 0.0958 - accuracy: 0.9816 - val_loss: 0.1722 - val_accuracy: 0.9309\n",
      "Epoch 63/100\n",
      "12/12 [==============================] - 0s 6ms/step - loss: 0.0947 - accuracy: 0.9816 - val_loss: 0.1713 - val_accuracy: 0.9309\n",
      "Epoch 64/100\n",
      "12/12 [==============================] - 0s 6ms/step - loss: 0.0937 - accuracy: 0.9816 - val_loss: 0.1705 - val_accuracy: 0.9309\n",
      "Epoch 65/100\n",
      "12/12 [==============================] - 0s 5ms/step - loss: 0.0927 - accuracy: 0.9816 - val_loss: 0.1697 - val_accuracy: 0.9309\n",
      "Epoch 66/100\n",
      "12/12 [==============================] - 0s 6ms/step - loss: 0.0917 - accuracy: 0.9816 - val_loss: 0.1690 - val_accuracy: 0.9309\n",
      "Epoch 67/100\n",
      "12/12 [==============================] - 0s 6ms/step - loss: 0.0908 - accuracy: 0.9816 - val_loss: 0.1680 - val_accuracy: 0.9309\n",
      "Epoch 68/100\n",
      "12/12 [==============================] - 0s 5ms/step - loss: 0.0898 - accuracy: 0.9816 - val_loss: 0.1672 - val_accuracy: 0.9309\n",
      "Epoch 69/100\n",
      "12/12 [==============================] - 0s 6ms/step - loss: 0.0889 - accuracy: 0.9816 - val_loss: 0.1665 - val_accuracy: 0.9309\n",
      "Epoch 70/100\n",
      "12/12 [==============================] - 0s 6ms/step - loss: 0.0881 - accuracy: 0.9816 - val_loss: 0.1659 - val_accuracy: 0.9309\n",
      "Epoch 71/100\n",
      "12/12 [==============================] - 0s 6ms/step - loss: 0.0872 - accuracy: 0.9816 - val_loss: 0.1652 - val_accuracy: 0.9362\n",
      "Epoch 72/100\n",
      "12/12 [==============================] - 0s 6ms/step - loss: 0.0864 - accuracy: 0.9843 - val_loss: 0.1643 - val_accuracy: 0.9362\n",
      "Epoch 73/100\n",
      "12/12 [==============================] - 0s 6ms/step - loss: 0.0856 - accuracy: 0.9843 - val_loss: 0.1638 - val_accuracy: 0.9362\n",
      "Epoch 74/100\n",
      "12/12 [==============================] - 0s 7ms/step - loss: 0.0848 - accuracy: 0.9843 - val_loss: 0.1631 - val_accuracy: 0.9362\n",
      "Epoch 75/100\n",
      "12/12 [==============================] - 0s 7ms/step - loss: 0.0840 - accuracy: 0.9843 - val_loss: 0.1626 - val_accuracy: 0.9362\n",
      "Epoch 76/100\n",
      "12/12 [==============================] - 0s 6ms/step - loss: 0.0833 - accuracy: 0.9843 - val_loss: 0.1621 - val_accuracy: 0.9362\n",
      "Epoch 77/100\n",
      "12/12 [==============================] - 0s 6ms/step - loss: 0.0825 - accuracy: 0.9843 - val_loss: 0.1613 - val_accuracy: 0.9362\n",
      "Epoch 78/100\n",
      "12/12 [==============================] - 0s 6ms/step - loss: 0.0818 - accuracy: 0.9843 - val_loss: 0.1608 - val_accuracy: 0.9362\n",
      "Epoch 79/100\n",
      "12/12 [==============================] - 0s 7ms/step - loss: 0.0811 - accuracy: 0.9843 - val_loss: 0.1602 - val_accuracy: 0.9362\n",
      "Epoch 80/100\n",
      "12/12 [==============================] - 0s 6ms/step - loss: 0.0805 - accuracy: 0.9843 - val_loss: 0.1597 - val_accuracy: 0.9362\n",
      "Epoch 81/100\n",
      "12/12 [==============================] - 0s 6ms/step - loss: 0.0798 - accuracy: 0.9843 - val_loss: 0.1592 - val_accuracy: 0.9362\n",
      "Epoch 82/100\n",
      "12/12 [==============================] - 0s 6ms/step - loss: 0.0792 - accuracy: 0.9843 - val_loss: 0.1586 - val_accuracy: 0.9362\n",
      "Epoch 83/100\n",
      "12/12 [==============================] - 0s 7ms/step - loss: 0.0785 - accuracy: 0.9843 - val_loss: 0.1581 - val_accuracy: 0.9362\n",
      "Epoch 84/100\n",
      "12/12 [==============================] - 0s 7ms/step - loss: 0.0779 - accuracy: 0.9843 - val_loss: 0.1576 - val_accuracy: 0.9362\n",
      "Epoch 85/100\n",
      "12/12 [==============================] - 0s 6ms/step - loss: 0.0772 - accuracy: 0.9843 - val_loss: 0.1572 - val_accuracy: 0.9362\n",
      "Epoch 86/100\n",
      "12/12 [==============================] - 0s 6ms/step - loss: 0.0766 - accuracy: 0.9843 - val_loss: 0.1567 - val_accuracy: 0.9362\n",
      "Epoch 87/100\n",
      "12/12 [==============================] - 0s 6ms/step - loss: 0.0761 - accuracy: 0.9843 - val_loss: 0.1563 - val_accuracy: 0.9362\n",
      "Epoch 88/100\n",
      "12/12 [==============================] - 0s 6ms/step - loss: 0.0755 - accuracy: 0.9843 - val_loss: 0.1560 - val_accuracy: 0.9362\n",
      "Epoch 89/100\n",
      "12/12 [==============================] - 0s 6ms/step - loss: 0.0749 - accuracy: 0.9843 - val_loss: 0.1554 - val_accuracy: 0.9362\n",
      "Epoch 90/100\n",
      "12/12 [==============================] - 0s 6ms/step - loss: 0.0744 - accuracy: 0.9843 - val_loss: 0.1550 - val_accuracy: 0.9362\n",
      "Epoch 91/100\n",
      "12/12 [==============================] - 0s 6ms/step - loss: 0.0738 - accuracy: 0.9843 - val_loss: 0.1546 - val_accuracy: 0.9362\n",
      "Epoch 92/100\n",
      "12/12 [==============================] - 0s 6ms/step - loss: 0.0733 - accuracy: 0.9843 - val_loss: 0.1542 - val_accuracy: 0.9362\n",
      "Epoch 93/100\n",
      "12/12 [==============================] - 0s 7ms/step - loss: 0.0728 - accuracy: 0.9869 - val_loss: 0.1539 - val_accuracy: 0.9362\n",
      "Epoch 94/100\n",
      "12/12 [==============================] - 0s 7ms/step - loss: 0.0723 - accuracy: 0.9869 - val_loss: 0.1534 - val_accuracy: 0.9362\n",
      "Epoch 95/100\n",
      "12/12 [==============================] - 0s 6ms/step - loss: 0.0718 - accuracy: 0.9869 - val_loss: 0.1531 - val_accuracy: 0.9362\n",
      "Epoch 96/100\n",
      "12/12 [==============================] - 0s 6ms/step - loss: 0.0713 - accuracy: 0.9869 - val_loss: 0.1526 - val_accuracy: 0.9362\n",
      "Epoch 97/100\n",
      "12/12 [==============================] - 0s 6ms/step - loss: 0.0708 - accuracy: 0.9869 - val_loss: 0.1524 - val_accuracy: 0.9362\n",
      "Epoch 98/100\n",
      "12/12 [==============================] - 0s 6ms/step - loss: 0.0703 - accuracy: 0.9869 - val_loss: 0.1521 - val_accuracy: 0.9362\n",
      "Epoch 99/100\n",
      "12/12 [==============================] - 0s 6ms/step - loss: 0.0699 - accuracy: 0.9869 - val_loss: 0.1516 - val_accuracy: 0.9362\n",
      "Epoch 100/100\n",
      "12/12 [==============================] - 0s 6ms/step - loss: 0.0694 - accuracy: 0.9869 - val_loss: 0.1512 - val_accuracy: 0.9362\n"
     ]
    }
   ],
   "source": [
    "# Define the model\n",
    "model = tf.keras.Sequential([\n",
    "    tf.keras.layers.Input(shape=(D,)),\n",
    "    tf.keras.layers.Dense(1, activation='sigmoid')\n",
    "])\n",
    "\n",
    "# Compile the model with the correct loss function\n",
    "model.compile(optimizer=tf.keras.optimizers.Adam(),\n",
    "              loss='binary_crossentropy',\n",
    "              metrics=['accuracy'])\n",
    "\n",
    "# Assuming you have training and validation data `X_train`, `y_train`, `X_test`, and `y_test`\n",
    "r = model.fit(X_train, y_train, validation_data=(X_test, y_test), epochs=100)"
   ]
  },
  {
   "cell_type": "code",
   "execution_count": 36,
   "id": "0f229498",
   "metadata": {},
   "outputs": [
    {
     "name": "stdout",
     "output_type": "stream",
     "text": [
      "12/12 [==============================] - 0s 3ms/step - loss: 0.0691 - accuracy: 0.9869\n",
      "Train score:  [0.06911040842533112, 0.9868766665458679]\n",
      "6/6 [==============================] - 0s 3ms/step - loss: 0.1512 - accuracy: 0.9362\n",
      "Test score: [0.15122762322425842, 0.936170220375061]\n"
     ]
    }
   ],
   "source": [
    "print(\"Train score: \",model.evaluate(X_train,y_train))\n",
    "print(\"Test score:\", model.evaluate(X_test,y_test))"
   ]
  },
  {
   "cell_type": "markdown",
   "id": "9c72dc17",
   "metadata": {},
   "source": [
    "# Print the loss history"
   ]
  },
  {
   "cell_type": "code",
   "execution_count": 37,
   "id": "d0ef02de",
   "metadata": {},
   "outputs": [
    {
     "data": {
      "text/plain": [
       "<matplotlib.legend.Legend at 0x21dcc2bce90>"
      ]
     },
     "execution_count": 37,
     "metadata": {},
     "output_type": "execute_result"
    },
    {
     "data": {
      "image/png": "[encoded data removed]",
      "text/plain": [
       "<Figure size 640x480 with 1 Axes>"
      ]
     },
     "metadata": {},
     "output_type": "display_data"
    }
   ],
   "source": [
    "plt.plot(r.history['loss'],label='loss')\n",
    "plt.plot(r.history['val_loss'],label='val_loss')\n",
    "plt.legend()"
   ]
  },
  {
   "cell_type": "code",
   "execution_count": null,
   "id": "982dbac2",
   "metadata": {},
   "outputs": [],
   "source": [
    "plt.plot(r.history['accur'],label='loss')\n",
    "plt.plot(r.history['val_loss'],label='val_loss')\n",
    "plt.legend()"
   ]
  }
 ],
 "metadata": {
  "kernelspec": {
   "display_name": "Python 3 (ipykernel)",
   "language": "python",
   "name": "python3"
  },
  "language_info": {
   "codemirror_mode": {
    "name": "ipython",
    "version": 3
   },
   "file_extension": ".py",
   "mimetype": "text/x-python",
   "name": "python",
   "nbconvert_exporter": "python",
   "pygments_lexer": "ipython3",
   "version": "3.11.4"
  }
 },
 "nbformat": 4,
 "nbformat_minor": 5
}
