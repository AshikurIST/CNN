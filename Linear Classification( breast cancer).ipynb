{
 "cells": [
  {
   "cell_type": "code",
   "execution_count": 2,
   "id": "700067f3",
   "metadata": {},
   "outputs": [],
   "source": [
    "import pandas as pd\n",
    "import numpy as np"
   ]
  },
  {
   "cell_type": "code",
   "execution_count": 3,
   "id": "55a49feb",
   "metadata": {},
   "outputs": [],
   "source": [
    "import matplotlib.pyplot as plt\n",
    "import seaborn as sns"
   ]
  },
  {
   "cell_type": "code",
   "execution_count": 4,
   "id": "10d46441",
   "metadata": {},
   "outputs": [
    {
     "name": "stdout",
     "output_type": "stream",
     "text": [
      "WARNING:tensorflow:From C:\\Users\\hi\\anaconda3\\Lib\\site-packages\\keras\\src\\losses.py:2976: The name tf.losses.sparse_softmax_cross_entropy is deprecated. Please use tf.compat.v1.losses.sparse_softmax_cross_entropy instead.\n",
      "\n"
     ]
    }
   ],
   "source": [
    "import tensorflow as tf"
   ]
  },
  {
   "cell_type": "markdown",
   "id": "21150d8c",
   "metadata": {},
   "source": [
    "# load the data set from sklean"
   ]
  },
  {
   "cell_type": "code",
   "execution_count": 5,
   "id": "52bd1188",
   "metadata": {},
   "outputs": [],
   "source": [
    "from sklearn.datasets import load_breast_cancer"
   ]
  },
  {
   "cell_type": "code",
   "execution_count": 6,
   "id": "8ab502e4",
   "metadata": {},
   "outputs": [],
   "source": [
    "data=load_breast_cancer()"
   ]
  },
  {
   "cell_type": "code",
   "execution_count": 7,
   "id": "28a17600",
   "metadata": {},
   "outputs": [
    {
     "data": {
      "text/plain": [
       "{'data': array([[1.799e+01, 1.038e+01, 1.228e+02, ..., 2.654e-01, 4.601e-01,\n",
       "         1.189e-01],\n",
       "        [2.057e+01, 1.777e+01, 1.329e+02, ..., 1.860e-01, 2.750e-01,\n",
       "         8.902e-02],\n",
       "        [1.969e+01, 2.125e+01, 1.300e+02, ..., 2.430e-01, 3.613e-01,\n",
       "         8.758e-02],\n",
       "        ...,\n",
       "        [1.660e+01, 2.808e+01, 1.083e+02, ..., 1.418e-01, 2.218e-01,\n",
       "         7.820e-02],\n",
       "        [2.060e+01, 2.933e+01, 1.401e+02, ..., 2.650e-01, 4.087e-01,\n",
       "         1.240e-01],\n",
       "        [7.760e+00, 2.454e+01, 4.792e+01, ..., 0.000e+00, 2.871e-01,\n",
       "         7.039e-02]]),\n",
       " 'target': array([0, 0, 0, 0, 0, 0, 0, 0, 0, 0, 0, 0, 0, 0, 0, 0, 0, 0, 0, 1, 1, 1,\n",
       "        0, 0, 0, 0, 0, 0, 0, 0, 0, 0, 0, 0, 0, 0, 0, 1, 0, 0, 0, 0, 0, 0,\n",
       "        0, 0, 1, 0, 1, 1, 1, 1, 1, 0, 0, 1, 0, 0, 1, 1, 1, 1, 0, 1, 0, 0,\n",
       "        1, 1, 1, 1, 0, 1, 0, 0, 1, 0, 1, 0, 0, 1, 1, 1, 0, 0, 1, 0, 0, 0,\n",
       "        1, 1, 1, 0, 1, 1, 0, 0, 1, 1, 1, 0, 0, 1, 1, 1, 1, 0, 1, 1, 0, 1,\n",
       "        1, 1, 1, 1, 1, 1, 1, 0, 0, 0, 1, 0, 0, 1, 1, 1, 0, 0, 1, 0, 1, 0,\n",
       "        0, 1, 0, 0, 1, 1, 0, 1, 1, 0, 1, 1, 1, 1, 0, 1, 1, 1, 1, 1, 1, 1,\n",
       "        1, 1, 0, 1, 1, 1, 1, 0, 0, 1, 0, 1, 1, 0, 0, 1, 1, 0, 0, 1, 1, 1,\n",
       "        1, 0, 1, 1, 0, 0, 0, 1, 0, 1, 0, 1, 1, 1, 0, 1, 1, 0, 0, 1, 0, 0,\n",
       "        0, 0, 1, 0, 0, 0, 1, 0, 1, 0, 1, 1, 0, 1, 0, 0, 0, 0, 1, 1, 0, 0,\n",
       "        1, 1, 1, 0, 1, 1, 1, 1, 1, 0, 0, 1, 1, 0, 1, 1, 0, 0, 1, 0, 1, 1,\n",
       "        1, 1, 0, 1, 1, 1, 1, 1, 0, 1, 0, 0, 0, 0, 0, 0, 0, 0, 0, 0, 0, 0,\n",
       "        0, 0, 1, 1, 1, 1, 1, 1, 0, 1, 0, 1, 1, 0, 1, 1, 0, 1, 0, 0, 1, 1,\n",
       "        1, 1, 1, 1, 1, 1, 1, 1, 1, 1, 1, 0, 1, 1, 0, 1, 0, 1, 1, 1, 1, 1,\n",
       "        1, 1, 1, 1, 1, 1, 1, 1, 1, 0, 1, 1, 1, 0, 1, 0, 1, 1, 1, 1, 0, 0,\n",
       "        0, 1, 1, 1, 1, 0, 1, 0, 1, 0, 1, 1, 1, 0, 1, 1, 1, 1, 1, 1, 1, 0,\n",
       "        0, 0, 1, 1, 1, 1, 1, 1, 1, 1, 1, 1, 1, 0, 0, 1, 0, 0, 0, 1, 0, 0,\n",
       "        1, 1, 1, 1, 1, 0, 1, 1, 1, 1, 1, 0, 1, 1, 1, 0, 1, 1, 0, 0, 1, 1,\n",
       "        1, 1, 1, 1, 0, 1, 1, 1, 1, 1, 1, 1, 0, 1, 1, 1, 1, 1, 0, 1, 1, 0,\n",
       "        1, 1, 1, 1, 1, 1, 1, 1, 1, 1, 1, 1, 0, 1, 0, 0, 1, 0, 1, 1, 1, 1,\n",
       "        1, 0, 1, 1, 0, 1, 0, 1, 1, 0, 1, 0, 1, 1, 1, 1, 1, 1, 1, 1, 0, 0,\n",
       "        1, 1, 1, 1, 1, 1, 0, 1, 1, 1, 1, 1, 1, 1, 1, 1, 1, 0, 1, 1, 1, 1,\n",
       "        1, 1, 1, 0, 1, 0, 1, 1, 0, 1, 1, 1, 1, 1, 0, 0, 1, 0, 1, 0, 1, 1,\n",
       "        1, 1, 1, 0, 1, 1, 0, 1, 0, 1, 0, 0, 1, 1, 1, 0, 1, 1, 1, 1, 1, 1,\n",
       "        1, 1, 1, 1, 1, 0, 1, 0, 0, 1, 1, 1, 1, 1, 1, 1, 1, 1, 1, 1, 1, 1,\n",
       "        1, 1, 1, 1, 1, 1, 1, 1, 1, 1, 1, 1, 0, 0, 0, 0, 0, 0, 1]),\n",
       " 'frame': None,\n",
       " 'target_names': array(['malignant', 'benign'], dtype='<U9'),\n",
       " 'DESCR': '.. _breast_cancer_dataset:\\n\\nBreast cancer wisconsin (diagnostic) dataset\\n--------------------------------------------\\n\\n**Data Set Characteristics:**\\n\\n    :Number of Instances: 569\\n\\n    :Number of Attributes: 30 numeric, predictive attributes and the class\\n\\n    :Attribute Information:\\n        - radius (mean of distances from center to points on the perimeter)\\n        - texture (standard deviation of gray-scale values)\\n        - perimeter\\n        - area\\n        - smoothness (local variation in radius lengths)\\n        - compactness (perimeter^2 / area - 1.0)\\n        - concavity (severity of concave portions of the contour)\\n        - concave points (number of concave portions of the contour)\\n        - symmetry\\n        - fractal dimension (\"coastline approximation\" - 1)\\n\\n        The mean, standard error, and \"worst\" or largest (mean of the three\\n        worst/largest values) of these features were computed for each image,\\n        resulting in 30 features.  For instance, field 0 is Mean Radius, field\\n        10 is Radius SE, field 20 is Worst Radius.\\n\\n        - class:\\n                - WDBC-Malignant\\n                - WDBC-Benign\\n\\n    :Summary Statistics:\\n\\n    ===================================== ====== ======\\n                                           Min    Max\\n    ===================================== ====== ======\\n    radius (mean):                        6.981  28.11\\n    texture (mean):                       9.71   39.28\\n    perimeter (mean):                     43.79  188.5\\n    area (mean):                          143.5  2501.0\\n    smoothness (mean):                    0.053  0.163\\n    compactness (mean):                   0.019  0.345\\n    concavity (mean):                     0.0    0.427\\n    concave points (mean):                0.0    0.201\\n    symmetry (mean):                      0.106  0.304\\n    fractal dimension (mean):             0.05   0.097\\n    radius (standard error):              0.112  2.873\\n    texture (standard error):             0.36   4.885\\n    perimeter (standard error):           0.757  21.98\\n    area (standard error):                6.802  542.2\\n    smoothness (standard error):          0.002  0.031\\n    compactness (standard error):         0.002  0.135\\n    concavity (standard error):           0.0    0.396\\n    concave points (standard error):      0.0    0.053\\n    symmetry (standard error):            0.008  0.079\\n    fractal dimension (standard error):   0.001  0.03\\n    radius (worst):                       7.93   36.04\\n    texture (worst):                      12.02  49.54\\n    perimeter (worst):                    50.41  251.2\\n    area (worst):                         185.2  4254.0\\n    smoothness (worst):                   0.071  0.223\\n    compactness (worst):                  0.027  1.058\\n    concavity (worst):                    0.0    1.252\\n    concave points (worst):               0.0    0.291\\n    symmetry (worst):                     0.156  0.664\\n    fractal dimension (worst):            0.055  0.208\\n    ===================================== ====== ======\\n\\n    :Missing Attribute Values: None\\n\\n    :Class Distribution: 212 - Malignant, 357 - Benign\\n\\n    :Creator:  Dr. William H. Wolberg, W. Nick Street, Olvi L. Mangasarian\\n\\n    :Donor: Nick Street\\n\\n    :Date: November, 1995\\n\\nThis is a copy of UCI ML Breast Cancer Wisconsin (Diagnostic) datasets.\\nhttps://goo.gl/U2Uwz2\\n\\nFeatures are computed from a digitized image of a fine needle\\naspirate (FNA) of a breast mass.  They describe\\ncharacteristics of the cell nuclei present in the image.\\n\\nSeparating plane described above was obtained using\\nMultisurface Method-Tree (MSM-T) [K. P. Bennett, \"Decision Tree\\nConstruction Via Linear Programming.\" Proceedings of the 4th\\nMidwest Artificial Intelligence and Cognitive Science Society,\\npp. 97-101, 1992], a classification method which uses linear\\nprogramming to construct a decision tree.  Relevant features\\nwere selected using an exhaustive search in the space of 1-4\\nfeatures and 1-3 separating planes.\\n\\nThe actual linear program used to obtain the separating plane\\nin the 3-dimensional space is that described in:\\n[K. P. Bennett and O. L. Mangasarian: \"Robust Linear\\nProgramming Discrimination of Two Linearly Inseparable Sets\",\\nOptimization Methods and Software 1, 1992, 23-34].\\n\\nThis database is also available through the UW CS ftp server:\\n\\nftp ftp.cs.wisc.edu\\ncd math-prog/cpo-dataset/machine-learn/WDBC/\\n\\n.. topic:: References\\n\\n   - W.N. Street, W.H. Wolberg and O.L. Mangasarian. Nuclear feature extraction \\n     for breast tumor diagnosis. IS&T/SPIE 1993 International Symposium on \\n     Electronic Imaging: Science and Technology, volume 1905, pages 861-870,\\n     San Jose, CA, 1993.\\n   - O.L. Mangasarian, W.N. Street and W.H. Wolberg. Breast cancer diagnosis and \\n     prognosis via linear programming. Operations Research, 43(4), pages 570-577, \\n     July-August 1995.\\n   - W.H. Wolberg, W.N. Street, and O.L. Mangasarian. Machine learning techniques\\n     to diagnose breast cancer from fine-needle aspirates. Cancer Letters 77 (1994) \\n     163-171.',\n",
       " 'feature_names': array(['mean radius', 'mean texture', 'mean perimeter', 'mean area',\n",
       "        'mean smoothness', 'mean compactness', 'mean concavity',\n",
       "        'mean concave points', 'mean symmetry', 'mean fractal dimension',\n",
       "        'radius error', 'texture error', 'perimeter error', 'area error',\n",
       "        'smoothness error', 'compactness error', 'concavity error',\n",
       "        'concave points error', 'symmetry error',\n",
       "        'fractal dimension error', 'worst radius', 'worst texture',\n",
       "        'worst perimeter', 'worst area', 'worst smoothness',\n",
       "        'worst compactness', 'worst concavity', 'worst concave points',\n",
       "        'worst symmetry', 'worst fractal dimension'], dtype='<U23'),\n",
       " 'filename': 'breast_cancer.csv',\n",
       " 'data_module': 'sklearn.datasets.data'}"
      ]
     },
     "execution_count": 7,
     "metadata": {},
     "output_type": "execute_result"
    }
   ],
   "source": [
    "data"
   ]
  },
  {
   "cell_type": "code",
   "execution_count": 9,
   "id": "608e7e05",
   "metadata": {},
   "outputs": [
    {
     "data": {
      "text/plain": [
       "sklearn.utils._bunch.Bunch"
      ]
     },
     "execution_count": 9,
     "metadata": {},
     "output_type": "execute_result"
    }
   ],
   "source": [
    "type(data)"
   ]
  },
  {
   "cell_type": "code",
   "execution_count": 11,
   "id": "95bda9f2",
   "metadata": {},
   "outputs": [
    {
     "data": {
      "text/plain": [
       "dict_keys(['data', 'target', 'frame', 'target_names', 'DESCR', 'feature_names', 'filename', 'data_module'])"
      ]
     },
     "execution_count": 11,
     "metadata": {},
     "output_type": "execute_result"
    }
   ],
   "source": [
    "data.keys()"
   ]
  },
  {
   "cell_type": "code",
   "execution_count": 12,
   "id": "4c62b34a",
   "metadata": {},
   "outputs": [
    {
     "data": {
      "text/plain": [
       "array([[1.799e+01, 1.038e+01, 1.228e+02, ..., 2.654e-01, 4.601e-01,\n",
       "        1.189e-01],\n",
       "       [2.057e+01, 1.777e+01, 1.329e+02, ..., 1.860e-01, 2.750e-01,\n",
       "        8.902e-02],\n",
       "       [1.969e+01, 2.125e+01, 1.300e+02, ..., 2.430e-01, 3.613e-01,\n",
       "        8.758e-02],\n",
       "       ...,\n",
       "       [1.660e+01, 2.808e+01, 1.083e+02, ..., 1.418e-01, 2.218e-01,\n",
       "        7.820e-02],\n",
       "       [2.060e+01, 2.933e+01, 1.401e+02, ..., 2.650e-01, 4.087e-01,\n",
       "        1.240e-01],\n",
       "       [7.760e+00, 2.454e+01, 4.792e+01, ..., 0.000e+00, 2.871e-01,\n",
       "        7.039e-02]])"
      ]
     },
     "execution_count": 12,
     "metadata": {},
     "output_type": "execute_result"
    }
   ],
   "source": [
    "data['data']"
   ]
  },
  {
   "cell_type": "code",
   "execution_count": 13,
   "id": "f9c4e52a",
   "metadata": {},
   "outputs": [
    {
     "data": {
      "text/plain": [
       "array([0, 0, 0, 0, 0, 0, 0, 0, 0, 0, 0, 0, 0, 0, 0, 0, 0, 0, 0, 1, 1, 1,\n",
       "       0, 0, 0, 0, 0, 0, 0, 0, 0, 0, 0, 0, 0, 0, 0, 1, 0, 0, 0, 0, 0, 0,\n",
       "       0, 0, 1, 0, 1, 1, 1, 1, 1, 0, 0, 1, 0, 0, 1, 1, 1, 1, 0, 1, 0, 0,\n",
       "       1, 1, 1, 1, 0, 1, 0, 0, 1, 0, 1, 0, 0, 1, 1, 1, 0, 0, 1, 0, 0, 0,\n",
       "       1, 1, 1, 0, 1, 1, 0, 0, 1, 1, 1, 0, 0, 1, 1, 1, 1, 0, 1, 1, 0, 1,\n",
       "       1, 1, 1, 1, 1, 1, 1, 0, 0, 0, 1, 0, 0, 1, 1, 1, 0, 0, 1, 0, 1, 0,\n",
       "       0, 1, 0, 0, 1, 1, 0, 1, 1, 0, 1, 1, 1, 1, 0, 1, 1, 1, 1, 1, 1, 1,\n",
       "       1, 1, 0, 1, 1, 1, 1, 0, 0, 1, 0, 1, 1, 0, 0, 1, 1, 0, 0, 1, 1, 1,\n",
       "       1, 0, 1, 1, 0, 0, 0, 1, 0, 1, 0, 1, 1, 1, 0, 1, 1, 0, 0, 1, 0, 0,\n",
       "       0, 0, 1, 0, 0, 0, 1, 0, 1, 0, 1, 1, 0, 1, 0, 0, 0, 0, 1, 1, 0, 0,\n",
       "       1, 1, 1, 0, 1, 1, 1, 1, 1, 0, 0, 1, 1, 0, 1, 1, 0, 0, 1, 0, 1, 1,\n",
       "       1, 1, 0, 1, 1, 1, 1, 1, 0, 1, 0, 0, 0, 0, 0, 0, 0, 0, 0, 0, 0, 0,\n",
       "       0, 0, 1, 1, 1, 1, 1, 1, 0, 1, 0, 1, 1, 0, 1, 1, 0, 1, 0, 0, 1, 1,\n",
       "       1, 1, 1, 1, 1, 1, 1, 1, 1, 1, 1, 0, 1, 1, 0, 1, 0, 1, 1, 1, 1, 1,\n",
       "       1, 1, 1, 1, 1, 1, 1, 1, 1, 0, 1, 1, 1, 0, 1, 0, 1, 1, 1, 1, 0, 0,\n",
       "       0, 1, 1, 1, 1, 0, 1, 0, 1, 0, 1, 1, 1, 0, 1, 1, 1, 1, 1, 1, 1, 0,\n",
       "       0, 0, 1, 1, 1, 1, 1, 1, 1, 1, 1, 1, 1, 0, 0, 1, 0, 0, 0, 1, 0, 0,\n",
       "       1, 1, 1, 1, 1, 0, 1, 1, 1, 1, 1, 0, 1, 1, 1, 0, 1, 1, 0, 0, 1, 1,\n",
       "       1, 1, 1, 1, 0, 1, 1, 1, 1, 1, 1, 1, 0, 1, 1, 1, 1, 1, 0, 1, 1, 0,\n",
       "       1, 1, 1, 1, 1, 1, 1, 1, 1, 1, 1, 1, 0, 1, 0, 0, 1, 0, 1, 1, 1, 1,\n",
       "       1, 0, 1, 1, 0, 1, 0, 1, 1, 0, 1, 0, 1, 1, 1, 1, 1, 1, 1, 1, 0, 0,\n",
       "       1, 1, 1, 1, 1, 1, 0, 1, 1, 1, 1, 1, 1, 1, 1, 1, 1, 0, 1, 1, 1, 1,\n",
       "       1, 1, 1, 0, 1, 0, 1, 1, 0, 1, 1, 1, 1, 1, 0, 0, 1, 0, 1, 0, 1, 1,\n",
       "       1, 1, 1, 0, 1, 1, 0, 1, 0, 1, 0, 0, 1, 1, 1, 0, 1, 1, 1, 1, 1, 1,\n",
       "       1, 1, 1, 1, 1, 0, 1, 0, 0, 1, 1, 1, 1, 1, 1, 1, 1, 1, 1, 1, 1, 1,\n",
       "       1, 1, 1, 1, 1, 1, 1, 1, 1, 1, 1, 1, 0, 0, 0, 0, 0, 0, 1])"
      ]
     },
     "execution_count": 13,
     "metadata": {},
     "output_type": "execute_result"
    }
   ],
   "source": [
    "data['target']"
   ]
  },
  {
   "cell_type": "code",
   "execution_count": 18,
   "id": "ca5dc6fd",
   "metadata": {},
   "outputs": [
    {
     "data": {
      "text/plain": [
       "(569, 30)"
      ]
     },
     "execution_count": 18,
     "metadata": {},
     "output_type": "execute_result"
    }
   ],
   "source": [
    "data.data.shape"
   ]
  },
  {
   "cell_type": "code",
   "execution_count": 15,
   "id": "505c9e71",
   "metadata": {},
   "outputs": [
    {
     "data": {
      "text/plain": [
       "array(['malignant', 'benign'], dtype='<U9')"
      ]
     },
     "execution_count": 15,
     "metadata": {},
     "output_type": "execute_result"
    }
   ],
   "source": [
    "data['target_names']"
   ]
  },
  {
   "cell_type": "code",
   "execution_count": 16,
   "id": "ec2e431b",
   "metadata": {},
   "outputs": [
    {
     "data": {
      "text/plain": [
       "array(['mean radius', 'mean texture', 'mean perimeter', 'mean area',\n",
       "       'mean smoothness', 'mean compactness', 'mean concavity',\n",
       "       'mean concave points', 'mean symmetry', 'mean fractal dimension',\n",
       "       'radius error', 'texture error', 'perimeter error', 'area error',\n",
       "       'smoothness error', 'compactness error', 'concavity error',\n",
       "       'concave points error', 'symmetry error',\n",
       "       'fractal dimension error', 'worst radius', 'worst texture',\n",
       "       'worst perimeter', 'worst area', 'worst smoothness',\n",
       "       'worst compactness', 'worst concavity', 'worst concave points',\n",
       "       'worst symmetry', 'worst fractal dimension'], dtype='<U23')"
      ]
     },
     "execution_count": 16,
     "metadata": {},
     "output_type": "execute_result"
    }
   ],
   "source": [
    "data.feature_names"
   ]
  },
  {
   "cell_type": "code",
   "execution_count": 19,
   "id": "3a0851e6",
   "metadata": {},
   "outputs": [
    {
     "data": {
      "text/plain": [
       "(30,)"
      ]
     },
     "execution_count": 19,
     "metadata": {},
     "output_type": "execute_result"
    }
   ],
   "source": [
    "data.feature_names.shape"
   ]
  },
  {
   "cell_type": "markdown",
   "id": "4e0e16af",
   "metadata": {},
   "source": [
    "#  Split the model"
   ]
  },
  {
   "cell_type": "code",
   "execution_count": 8,
   "id": "db465e66",
   "metadata": {},
   "outputs": [],
   "source": [
    "from sklearn.model_selection import train_test_split"
   ]
  },
  {
   "cell_type": "code",
   "execution_count": 9,
   "id": "cd236216",
   "metadata": {},
   "outputs": [],
   "source": [
    "X=data.data\n",
    "y=data.target"
   ]
  },
  {
   "cell_type": "code",
   "execution_count": 10,
   "id": "202597e2",
   "metadata": {},
   "outputs": [],
   "source": [
    "X_train, X_test, y_train, y_test = train_test_split(X, y, test_size=0.33)"
   ]
  },
  {
   "cell_type": "markdown",
   "id": "2fdd7421",
   "metadata": {},
   "source": [
    "#  shape of the Xtrain"
   ]
  },
  {
   "cell_type": "code",
   "execution_count": 11,
   "id": "4023aef0",
   "metadata": {},
   "outputs": [],
   "source": [
    "N,D=X_train.shape"
   ]
  },
  {
   "cell_type": "code",
   "execution_count": 12,
   "id": "0707efca",
   "metadata": {},
   "outputs": [
    {
     "data": {
      "text/plain": [
       "(381, 30)"
      ]
     },
     "execution_count": 12,
     "metadata": {},
     "output_type": "execute_result"
    }
   ],
   "source": [
    "N,D"
   ]
  },
  {
   "cell_type": "markdown",
   "id": "dc6eed90",
   "metadata": {},
   "source": [
    "# Scaling the data"
   ]
  },
  {
   "cell_type": "code",
   "execution_count": 13,
   "id": "582c0255",
   "metadata": {},
   "outputs": [],
   "source": [
    "from sklearn.preprocessing import StandardScaler"
   ]
  },
  {
   "cell_type": "code",
   "execution_count": 14,
   "id": "95fa47fd",
   "metadata": {},
   "outputs": [],
   "source": [
    "scaler=StandardScaler()"
   ]
  },
  {
   "cell_type": "code",
   "execution_count": 15,
   "id": "214e550e",
   "metadata": {},
   "outputs": [],
   "source": [
    "X_train=scaler.fit_transform(X_train)\n",
    "X_test=scaler.transform(X_test)"
   ]
  },
  {
   "cell_type": "markdown",
   "id": "b91c2bb9",
   "metadata": {},
   "source": [
    "# Create the TF model"
   ]
  },
  {
   "cell_type": "code",
   "execution_count": 16,
   "id": "1a1fa949",
   "metadata": {},
   "outputs": [
    {
     "name": "stdout",
     "output_type": "stream",
     "text": [
      "WARNING:tensorflow:From C:\\Users\\hi\\anaconda3\\Lib\\site-packages\\keras\\src\\backend.py:1398: The name tf.executing_eagerly_outside_functions is deprecated. Please use tf.compat.v1.executing_eagerly_outside_functions instead.\n",
      "\n"
     ]
    }
   ],
   "source": [
    "model=tf.keras.Sequential([\n",
    "    tf.keras.layers.Input(shape=(D,)),\n",
    "    tf.keras.layers.Dense(1, activation='sigmoid')    \n",
    "    \n",
    "])"
   ]
  },
  {
   "cell_type": "markdown",
   "id": "bd3e6a86",
   "metadata": {},
   "source": [
    "# Compile the model"
   ]
  },
  {
   "cell_type": "code",
   "execution_count": 17,
   "id": "f9ceef01",
   "metadata": {},
   "outputs": [
    {
     "name": "stdout",
     "output_type": "stream",
     "text": [
      "WARNING:tensorflow:From C:\\Users\\hi\\anaconda3\\Lib\\site-packages\\keras\\src\\optimizers\\__init__.py:309: The name tf.train.Optimizer is deprecated. Please use tf.compat.v1.train.Optimizer instead.\n",
      "\n"
     ]
    }
   ],
   "source": [
    "model.compile(optimizer='adam',\n",
    "             loss='binary_crosssentropy',\n",
    "              metrics=['accuracy']\n",
    "             )"
   ]
  },
  {
   "cell_type": "code",
   "execution_count": 18,
   "id": "ad60febe",
   "metadata": {},
   "outputs": [],
   "source": [
    "#r = model.fit(X_train, y_train, validation_data=(X_test, y_test), epochs=100)"
   ]
  },
  {
   "cell_type": "code",
   "execution_count": 19,
   "id": "346484c2",
   "metadata": {},
   "outputs": [
    {
     "name": "stdout",
     "output_type": "stream",
     "text": [
      "Epoch 1/100\n",
      "WARNING:tensorflow:From C:\\Users\\hi\\anaconda3\\Lib\\site-packages\\keras\\src\\utils\\tf_utils.py:492: The name tf.ragged.RaggedTensorValue is deprecated. Please use tf.compat.v1.ragged.RaggedTensorValue instead.\n",
      "\n",
      "WARNING:tensorflow:From C:\\Users\\hi\\anaconda3\\Lib\\site-packages\\keras\\src\\engine\\base_layer_utils.py:384: The name tf.executing_eagerly_outside_functions is deprecated. Please use tf.compat.v1.executing_eagerly_outside_functions instead.\n",
      "\n",
      "12/12 [==============================] - 2s 36ms/step - loss: 0.6591 - accuracy: 0.6798 - val_loss: 0.6771 - val_accuracy: 0.6862\n",
      "Epoch 2/100\n",
      "12/12 [==============================] - 0s 8ms/step - loss: 0.6069 - accuracy: 0.7244 - val_loss: 0.6289 - val_accuracy: 0.7021\n",
      "Epoch 3/100\n",
      "12/12 [==============================] - 0s 9ms/step - loss: 0.5610 - accuracy: 0.7717 - val_loss: 0.5866 - val_accuracy: 0.7234\n",
      "Epoch 4/100\n",
      "12/12 [==============================] - 0s 8ms/step - loss: 0.5220 - accuracy: 0.7979 - val_loss: 0.5490 - val_accuracy: 0.7500\n",
      "Epoch 5/100\n",
      "12/12 [==============================] - 0s 8ms/step - loss: 0.4858 - accuracy: 0.8163 - val_loss: 0.5173 - val_accuracy: 0.7713\n",
      "Epoch 6/100\n",
      "12/12 [==============================] - 0s 9ms/step - loss: 0.4550 - accuracy: 0.8294 - val_loss: 0.4894 - val_accuracy: 0.7766\n",
      "Epoch 7/100\n",
      "12/12 [==============================] - 0s 9ms/step - loss: 0.4291 - accuracy: 0.8451 - val_loss: 0.4628 - val_accuracy: 0.7979\n",
      "Epoch 8/100\n",
      "12/12 [==============================] - 0s 8ms/step - loss: 0.4051 - accuracy: 0.8556 - val_loss: 0.4392 - val_accuracy: 0.8085\n",
      "Epoch 9/100\n",
      "12/12 [==============================] - 0s 8ms/step - loss: 0.3829 - accuracy: 0.8609 - val_loss: 0.4187 - val_accuracy: 0.8191\n",
      "Epoch 10/100\n",
      "12/12 [==============================] - 0s 9ms/step - loss: 0.3635 - accuracy: 0.8661 - val_loss: 0.4002 - val_accuracy: 0.8351\n",
      "Epoch 11/100\n",
      "12/12 [==============================] - 0s 8ms/step - loss: 0.3461 - accuracy: 0.8661 - val_loss: 0.3833 - val_accuracy: 0.8351\n",
      "Epoch 12/100\n",
      "12/12 [==============================] - 0s 8ms/step - loss: 0.3304 - accuracy: 0.8793 - val_loss: 0.3678 - val_accuracy: 0.8404\n",
      "Epoch 13/100\n",
      "12/12 [==============================] - 0s 8ms/step - loss: 0.3160 - accuracy: 0.8845 - val_loss: 0.3529 - val_accuracy: 0.8511\n",
      "Epoch 14/100\n",
      "12/12 [==============================] - 0s 8ms/step - loss: 0.3029 - accuracy: 0.8898 - val_loss: 0.3391 - val_accuracy: 0.8564\n",
      "Epoch 15/100\n",
      "12/12 [==============================] - 0s 9ms/step - loss: 0.2900 - accuracy: 0.8924 - val_loss: 0.3269 - val_accuracy: 0.8670\n",
      "Epoch 16/100\n",
      "12/12 [==============================] - 0s 8ms/step - loss: 0.2789 - accuracy: 0.9029 - val_loss: 0.3156 - val_accuracy: 0.8617\n",
      "Epoch 17/100\n",
      "12/12 [==============================] - 0s 8ms/step - loss: 0.2681 - accuracy: 0.9029 - val_loss: 0.3056 - val_accuracy: 0.8723\n",
      "Epoch 18/100\n",
      "12/12 [==============================] - 0s 8ms/step - loss: 0.2591 - accuracy: 0.9081 - val_loss: 0.2954 - val_accuracy: 0.8723\n",
      "Epoch 19/100\n",
      "12/12 [==============================] - 0s 8ms/step - loss: 0.2492 - accuracy: 0.9134 - val_loss: 0.2867 - val_accuracy: 0.8723\n",
      "Epoch 20/100\n",
      "12/12 [==============================] - 0s 8ms/step - loss: 0.2407 - accuracy: 0.9186 - val_loss: 0.2786 - val_accuracy: 0.8830\n",
      "Epoch 21/100\n",
      "12/12 [==============================] - 0s 10ms/step - loss: 0.2329 - accuracy: 0.9186 - val_loss: 0.2710 - val_accuracy: 0.8830\n",
      "Epoch 22/100\n",
      "12/12 [==============================] - 0s 9ms/step - loss: 0.2256 - accuracy: 0.9239 - val_loss: 0.2638 - val_accuracy: 0.8830\n",
      "Epoch 23/100\n",
      "12/12 [==============================] - 0s 8ms/step - loss: 0.2188 - accuracy: 0.9239 - val_loss: 0.2569 - val_accuracy: 0.8883\n",
      "Epoch 24/100\n",
      "12/12 [==============================] - 0s 8ms/step - loss: 0.2121 - accuracy: 0.9239 - val_loss: 0.2508 - val_accuracy: 0.8936\n",
      "Epoch 25/100\n",
      "12/12 [==============================] - 0s 8ms/step - loss: 0.2061 - accuracy: 0.9239 - val_loss: 0.2450 - val_accuracy: 0.8936\n",
      "Epoch 26/100\n",
      "12/12 [==============================] - 0s 8ms/step - loss: 0.2004 - accuracy: 0.9265 - val_loss: 0.2398 - val_accuracy: 0.8936\n",
      "Epoch 27/100\n",
      "12/12 [==============================] - 0s 8ms/step - loss: 0.1950 - accuracy: 0.9318 - val_loss: 0.2353 - val_accuracy: 0.8989\n",
      "Epoch 28/100\n",
      "12/12 [==============================] - 0s 9ms/step - loss: 0.1901 - accuracy: 0.9318 - val_loss: 0.2306 - val_accuracy: 0.8989\n",
      "Epoch 29/100\n",
      "12/12 [==============================] - 0s 10ms/step - loss: 0.1855 - accuracy: 0.9344 - val_loss: 0.2262 - val_accuracy: 0.8989\n",
      "Epoch 30/100\n",
      "12/12 [==============================] - 0s 8ms/step - loss: 0.1810 - accuracy: 0.9344 - val_loss: 0.2222 - val_accuracy: 0.8989\n",
      "Epoch 31/100\n",
      "12/12 [==============================] - 0s 8ms/step - loss: 0.1768 - accuracy: 0.9370 - val_loss: 0.2186 - val_accuracy: 0.8989\n",
      "Epoch 32/100\n",
      "12/12 [==============================] - 0s 8ms/step - loss: 0.1729 - accuracy: 0.9423 - val_loss: 0.2151 - val_accuracy: 0.8989\n",
      "Epoch 33/100\n",
      "12/12 [==============================] - 0s 8ms/step - loss: 0.1692 - accuracy: 0.9449 - val_loss: 0.2117 - val_accuracy: 0.8989\n",
      "Epoch 34/100\n",
      "12/12 [==============================] - 0s 8ms/step - loss: 0.1658 - accuracy: 0.9449 - val_loss: 0.2086 - val_accuracy: 0.9043\n",
      "Epoch 35/100\n",
      "12/12 [==============================] - 0s 7ms/step - loss: 0.1623 - accuracy: 0.9449 - val_loss: 0.2058 - val_accuracy: 0.9043\n",
      "Epoch 36/100\n",
      "12/12 [==============================] - 0s 7ms/step - loss: 0.1592 - accuracy: 0.9501 - val_loss: 0.2029 - val_accuracy: 0.9043\n",
      "Epoch 37/100\n",
      "12/12 [==============================] - 0s 7ms/step - loss: 0.1563 - accuracy: 0.9528 - val_loss: 0.2003 - val_accuracy: 0.9043\n",
      "Epoch 38/100\n",
      "12/12 [==============================] - 0s 5ms/step - loss: 0.1534 - accuracy: 0.9528 - val_loss: 0.1979 - val_accuracy: 0.9149\n",
      "Epoch 39/100\n",
      "12/12 [==============================] - 0s 5ms/step - loss: 0.1508 - accuracy: 0.9554 - val_loss: 0.1955 - val_accuracy: 0.9149\n",
      "Epoch 40/100\n",
      "12/12 [==============================] - 0s 6ms/step - loss: 0.1481 - accuracy: 0.9580 - val_loss: 0.1934 - val_accuracy: 0.9255\n",
      "Epoch 41/100\n",
      "12/12 [==============================] - 0s 6ms/step - loss: 0.1457 - accuracy: 0.9580 - val_loss: 0.1911 - val_accuracy: 0.9309\n",
      "Epoch 42/100\n",
      "12/12 [==============================] - 0s 6ms/step - loss: 0.1434 - accuracy: 0.9580 - val_loss: 0.1891 - val_accuracy: 0.9309\n",
      "Epoch 43/100\n",
      "12/12 [==============================] - 0s 7ms/step - loss: 0.1411 - accuracy: 0.9580 - val_loss: 0.1872 - val_accuracy: 0.9309\n",
      "Epoch 44/100\n",
      "12/12 [==============================] - 0s 7ms/step - loss: 0.1390 - accuracy: 0.9580 - val_loss: 0.1853 - val_accuracy: 0.9309\n",
      "Epoch 45/100\n",
      "12/12 [==============================] - 0s 6ms/step - loss: 0.1369 - accuracy: 0.9580 - val_loss: 0.1835 - val_accuracy: 0.9309\n",
      "Epoch 46/100\n",
      "12/12 [==============================] - 0s 7ms/step - loss: 0.1349 - accuracy: 0.9580 - val_loss: 0.1818 - val_accuracy: 0.9309\n",
      "Epoch 47/100\n",
      "12/12 [==============================] - 0s 6ms/step - loss: 0.1331 - accuracy: 0.9606 - val_loss: 0.1801 - val_accuracy: 0.9309\n",
      "Epoch 48/100\n",
      "12/12 [==============================] - 0s 6ms/step - loss: 0.1313 - accuracy: 0.9606 - val_loss: 0.1787 - val_accuracy: 0.9309\n",
      "Epoch 49/100\n",
      "12/12 [==============================] - 0s 5ms/step - loss: 0.1295 - accuracy: 0.9606 - val_loss: 0.1771 - val_accuracy: 0.9309\n",
      "Epoch 50/100\n",
      "12/12 [==============================] - 0s 6ms/step - loss: 0.1278 - accuracy: 0.9606 - val_loss: 0.1756 - val_accuracy: 0.9309\n",
      "Epoch 51/100\n",
      "12/12 [==============================] - 0s 7ms/step - loss: 0.1261 - accuracy: 0.9606 - val_loss: 0.1743 - val_accuracy: 0.9309\n",
      "Epoch 52/100\n",
      "12/12 [==============================] - 0s 6ms/step - loss: 0.1246 - accuracy: 0.9606 - val_loss: 0.1730 - val_accuracy: 0.9309\n",
      "Epoch 53/100\n",
      "12/12 [==============================] - 0s 6ms/step - loss: 0.1230 - accuracy: 0.9580 - val_loss: 0.1718 - val_accuracy: 0.9309\n",
      "Epoch 54/100\n",
      "12/12 [==============================] - 0s 6ms/step - loss: 0.1217 - accuracy: 0.9580 - val_loss: 0.1704 - val_accuracy: 0.9309\n",
      "Epoch 55/100\n"
     ]
    },
    {
     "name": "stdout",
     "output_type": "stream",
     "text": [
      "12/12 [==============================] - 0s 7ms/step - loss: 0.1202 - accuracy: 0.9580 - val_loss: 0.1692 - val_accuracy: 0.9309\n",
      "Epoch 56/100\n",
      "12/12 [==============================] - 0s 5ms/step - loss: 0.1188 - accuracy: 0.9580 - val_loss: 0.1680 - val_accuracy: 0.9309\n",
      "Epoch 57/100\n",
      "12/12 [==============================] - 0s 5ms/step - loss: 0.1175 - accuracy: 0.9580 - val_loss: 0.1669 - val_accuracy: 0.9309\n",
      "Epoch 58/100\n",
      "12/12 [==============================] - 0s 5ms/step - loss: 0.1163 - accuracy: 0.9580 - val_loss: 0.1658 - val_accuracy: 0.9309\n",
      "Epoch 59/100\n",
      "12/12 [==============================] - 0s 5ms/step - loss: 0.1150 - accuracy: 0.9580 - val_loss: 0.1649 - val_accuracy: 0.9309\n",
      "Epoch 60/100\n",
      "12/12 [==============================] - 0s 5ms/step - loss: 0.1138 - accuracy: 0.9580 - val_loss: 0.1639 - val_accuracy: 0.9309\n",
      "Epoch 61/100\n",
      "12/12 [==============================] - 0s 5ms/step - loss: 0.1127 - accuracy: 0.9580 - val_loss: 0.1630 - val_accuracy: 0.9309\n",
      "Epoch 62/100\n",
      "12/12 [==============================] - 0s 5ms/step - loss: 0.1116 - accuracy: 0.9580 - val_loss: 0.1620 - val_accuracy: 0.9309\n",
      "Epoch 63/100\n",
      "12/12 [==============================] - 0s 5ms/step - loss: 0.1105 - accuracy: 0.9606 - val_loss: 0.1609 - val_accuracy: 0.9415\n",
      "Epoch 64/100\n",
      "12/12 [==============================] - 0s 5ms/step - loss: 0.1093 - accuracy: 0.9606 - val_loss: 0.1601 - val_accuracy: 0.9415\n",
      "Epoch 65/100\n",
      "12/12 [==============================] - 0s 5ms/step - loss: 0.1083 - accuracy: 0.9606 - val_loss: 0.1592 - val_accuracy: 0.9415\n",
      "Epoch 66/100\n",
      "12/12 [==============================] - 0s 5ms/step - loss: 0.1073 - accuracy: 0.9606 - val_loss: 0.1584 - val_accuracy: 0.9415\n",
      "Epoch 67/100\n",
      "12/12 [==============================] - 0s 5ms/step - loss: 0.1063 - accuracy: 0.9633 - val_loss: 0.1575 - val_accuracy: 0.9415\n",
      "Epoch 68/100\n",
      "12/12 [==============================] - 0s 5ms/step - loss: 0.1054 - accuracy: 0.9633 - val_loss: 0.1568 - val_accuracy: 0.9415\n",
      "Epoch 69/100\n",
      "12/12 [==============================] - 0s 5ms/step - loss: 0.1044 - accuracy: 0.9633 - val_loss: 0.1561 - val_accuracy: 0.9415\n",
      "Epoch 70/100\n",
      "12/12 [==============================] - 0s 5ms/step - loss: 0.1035 - accuracy: 0.9633 - val_loss: 0.1553 - val_accuracy: 0.9415\n",
      "Epoch 71/100\n",
      "12/12 [==============================] - 0s 5ms/step - loss: 0.1026 - accuracy: 0.9633 - val_loss: 0.1545 - val_accuracy: 0.9415\n",
      "Epoch 72/100\n",
      "12/12 [==============================] - 0s 5ms/step - loss: 0.1018 - accuracy: 0.9633 - val_loss: 0.1538 - val_accuracy: 0.9415\n",
      "Epoch 73/100\n",
      "12/12 [==============================] - 0s 5ms/step - loss: 0.1009 - accuracy: 0.9659 - val_loss: 0.1531 - val_accuracy: 0.9415\n",
      "Epoch 74/100\n",
      "12/12 [==============================] - 0s 5ms/step - loss: 0.1001 - accuracy: 0.9659 - val_loss: 0.1524 - val_accuracy: 0.9415\n",
      "Epoch 75/100\n",
      "12/12 [==============================] - 0s 5ms/step - loss: 0.0993 - accuracy: 0.9659 - val_loss: 0.1517 - val_accuracy: 0.9415\n",
      "Epoch 76/100\n",
      "12/12 [==============================] - 0s 6ms/step - loss: 0.0985 - accuracy: 0.9659 - val_loss: 0.1512 - val_accuracy: 0.9415\n",
      "Epoch 77/100\n",
      "12/12 [==============================] - 0s 5ms/step - loss: 0.0978 - accuracy: 0.9685 - val_loss: 0.1505 - val_accuracy: 0.9415\n",
      "Epoch 78/100\n",
      "12/12 [==============================] - 0s 6ms/step - loss: 0.0970 - accuracy: 0.9685 - val_loss: 0.1498 - val_accuracy: 0.9415\n",
      "Epoch 79/100\n",
      "12/12 [==============================] - 0s 9ms/step - loss: 0.0962 - accuracy: 0.9685 - val_loss: 0.1493 - val_accuracy: 0.9415\n",
      "Epoch 80/100\n",
      "12/12 [==============================] - 0s 7ms/step - loss: 0.0955 - accuracy: 0.9685 - val_loss: 0.1487 - val_accuracy: 0.9415\n",
      "Epoch 81/100\n",
      "12/12 [==============================] - 0s 7ms/step - loss: 0.0948 - accuracy: 0.9711 - val_loss: 0.1482 - val_accuracy: 0.9415\n",
      "Epoch 82/100\n",
      "12/12 [==============================] - 0s 7ms/step - loss: 0.0941 - accuracy: 0.9711 - val_loss: 0.1476 - val_accuracy: 0.9415\n",
      "Epoch 83/100\n",
      "12/12 [==============================] - 0s 7ms/step - loss: 0.0935 - accuracy: 0.9711 - val_loss: 0.1471 - val_accuracy: 0.9415\n",
      "Epoch 84/100\n",
      "12/12 [==============================] - 0s 6ms/step - loss: 0.0928 - accuracy: 0.9711 - val_loss: 0.1465 - val_accuracy: 0.9415\n",
      "Epoch 85/100\n",
      "12/12 [==============================] - 0s 5ms/step - loss: 0.0922 - accuracy: 0.9711 - val_loss: 0.1461 - val_accuracy: 0.9415\n",
      "Epoch 86/100\n",
      "12/12 [==============================] - 0s 5ms/step - loss: 0.0915 - accuracy: 0.9711 - val_loss: 0.1456 - val_accuracy: 0.9415\n",
      "Epoch 87/100\n",
      "12/12 [==============================] - 0s 5ms/step - loss: 0.0909 - accuracy: 0.9711 - val_loss: 0.1450 - val_accuracy: 0.9415\n",
      "Epoch 88/100\n",
      "12/12 [==============================] - 0s 5ms/step - loss: 0.0903 - accuracy: 0.9711 - val_loss: 0.1446 - val_accuracy: 0.9415\n",
      "Epoch 89/100\n",
      "12/12 [==============================] - 0s 5ms/step - loss: 0.0897 - accuracy: 0.9711 - val_loss: 0.1441 - val_accuracy: 0.9415\n",
      "Epoch 90/100\n",
      "12/12 [==============================] - 0s 5ms/step - loss: 0.0891 - accuracy: 0.9738 - val_loss: 0.1438 - val_accuracy: 0.9415\n",
      "Epoch 91/100\n",
      "12/12 [==============================] - 0s 5ms/step - loss: 0.0886 - accuracy: 0.9738 - val_loss: 0.1431 - val_accuracy: 0.9415\n",
      "Epoch 92/100\n",
      "12/12 [==============================] - 0s 5ms/step - loss: 0.0879 - accuracy: 0.9738 - val_loss: 0.1427 - val_accuracy: 0.9415\n",
      "Epoch 93/100\n",
      "12/12 [==============================] - 0s 6ms/step - loss: 0.0875 - accuracy: 0.9738 - val_loss: 0.1422 - val_accuracy: 0.9415\n",
      "Epoch 94/100\n",
      "12/12 [==============================] - 0s 9ms/step - loss: 0.0869 - accuracy: 0.9738 - val_loss: 0.1418 - val_accuracy: 0.9415\n",
      "Epoch 95/100\n",
      "12/12 [==============================] - 0s 8ms/step - loss: 0.0863 - accuracy: 0.9764 - val_loss: 0.1415 - val_accuracy: 0.9415\n",
      "Epoch 96/100\n",
      "12/12 [==============================] - 0s 7ms/step - loss: 0.0858 - accuracy: 0.9764 - val_loss: 0.1410 - val_accuracy: 0.9415\n",
      "Epoch 97/100\n",
      "12/12 [==============================] - 0s 6ms/step - loss: 0.0853 - accuracy: 0.9764 - val_loss: 0.1406 - val_accuracy: 0.9415\n",
      "Epoch 98/100\n",
      "12/12 [==============================] - 0s 6ms/step - loss: 0.0848 - accuracy: 0.9764 - val_loss: 0.1402 - val_accuracy: 0.9415\n",
      "Epoch 99/100\n",
      "12/12 [==============================] - 0s 6ms/step - loss: 0.0843 - accuracy: 0.9764 - val_loss: 0.1399 - val_accuracy: 0.9415\n",
      "Epoch 100/100\n",
      "12/12 [==============================] - 0s 7ms/step - loss: 0.0838 - accuracy: 0.9764 - val_loss: 0.1396 - val_accuracy: 0.9415\n"
     ]
    }
   ],
   "source": [
    "# Define the model\n",
    "model = tf.keras.Sequential([\n",
    "    tf.keras.layers.Input(shape=(D,)),\n",
    "    tf.keras.layers.Dense(1, activation='sigmoid')\n",
    "])\n",
    "\n",
    "# Compile the model with the correct loss function\n",
    "model.compile(optimizer=tf.keras.optimizers.Adam(),\n",
    "              loss='binary_crossentropy',\n",
    "              metrics=['accuracy'])\n",
    "\n",
    "# Assuming you have training and validation data `X_train`, `y_train`, `X_test`, and `y_test`\n",
    "r = model.fit(X_train, y_train, validation_data=(X_test, y_test), epochs=100)"
   ]
  },
  {
   "cell_type": "code",
   "execution_count": 20,
   "id": "e5af1b22",
   "metadata": {},
   "outputs": [
    {
     "name": "stdout",
     "output_type": "stream",
     "text": [
      "12/12 [==============================] - 0s 2ms/step - loss: 0.0835 - accuracy: 0.9764\n",
      "Train score:  [0.08348637819290161, 0.9763779640197754]\n",
      "6/6 [==============================] - 0s 2ms/step - loss: 0.1396 - accuracy: 0.9415\n",
      "Test score: [0.139577254652977, 0.9414893388748169]\n"
     ]
    }
   ],
   "source": [
    "print(\"Train score: \",model.evaluate(X_train,y_train))\n",
    "print(\"Test score:\", model.evaluate(X_test,y_test))"
   ]
  },
  {
   "cell_type": "markdown",
   "id": "8785d714",
   "metadata": {},
   "source": [
    "# Print the loss history"
   ]
  },
  {
   "cell_type": "code",
   "execution_count": 21,
   "id": "517598ba",
   "metadata": {},
   "outputs": [
    {
     "data": {
      "text/plain": [
       "<matplotlib.legend.Legend at 0x132cfa35c90>"
      ]
     },
     "execution_count": 21,
     "metadata": {},
     "output_type": "execute_result"
    },
    {
     "data": {
      "image/png": "[encoded data removed]",
      "text/plain": [
       "<Figure size 640x480 with 1 Axes>"
      ]
     },
     "metadata": {},
     "output_type": "display_data"
    }
   ],
   "source": [
    "plt.plot(r.history['loss'],label='loss')\n",
    "plt.plot(r.history['val_loss'],label='val_loss')\n",
    "plt.legend()"
   ]
  },
  {
   "cell_type": "code",
   "execution_count": 23,
   "id": "13a3ae3e",
   "metadata": {},
   "outputs": [
    {
     "data": {
      "text/plain": [
       "<matplotlib.legend.Legend at 0x132cf8b4050>"
      ]
     },
     "execution_count": 23,
     "metadata": {},
     "output_type": "execute_result"
    },
    {
     "data": {
      "image/png": "[encoded data removed]",
      "text/plain": [
       "<Figure size 640x480 with 1 Axes>"
      ]
     },
     "metadata": {},
     "output_type": "display_data"
    }
   ],
   "source": [
    "plt.plot(r.history['accuracy'],label='acc')\n",
    "plt.plot(r.history['val_accuracy'],label='val_acc')\n",
    "plt.legend()"
   ]
  },
  {
   "cell_type": "markdown",
   "id": "855e45d8",
   "metadata": {},
   "source": [
    "# Making Prediction"
   ]
  },
  {
   "cell_type": "code",
   "execution_count": 24,
   "id": "1ce0c6ea",
   "metadata": {},
   "outputs": [
    {
     "name": "stdout",
     "output_type": "stream",
     "text": [
      "6/6 [==============================] - 0s 2ms/step\n",
      "[[8.37007105e-01]\n",
      " [9.67094779e-01]\n",
      " [9.97613013e-01]\n",
      " [9.78625298e-01]\n",
      " [9.96834874e-01]\n",
      " [2.90715514e-04]\n",
      " [3.34747732e-01]\n",
      " [8.50266039e-01]\n",
      " [6.81769490e-01]\n",
      " [6.09935224e-01]\n",
      " [9.96084034e-01]\n",
      " [9.95010078e-01]\n",
      " [9.47683770e-03]\n",
      " [9.95534420e-01]\n",
      " [7.16444105e-03]\n",
      " [9.92755532e-01]\n",
      " [9.95192170e-01]\n",
      " [9.76695776e-01]\n",
      " [1.82989505e-04]\n",
      " [9.81485724e-01]\n",
      " [3.78605835e-02]\n",
      " [9.94074285e-01]\n",
      " [9.99161065e-01]\n",
      " [5.84201097e-01]\n",
      " [7.65815258e-01]\n",
      " [9.91601110e-01]\n",
      " [9.90486801e-01]\n",
      " [9.87470448e-01]\n",
      " [9.74484026e-01]\n",
      " [1.04612437e-10]\n",
      " [4.63026091e-02]\n",
      " [9.97427642e-01]\n",
      " [2.98876665e-03]\n",
      " [9.75040972e-01]\n",
      " [9.72237170e-01]\n",
      " [1.03384322e-02]\n",
      " [9.64466512e-01]\n",
      " [9.06521618e-01]\n",
      " [6.37960061e-02]\n",
      " [9.78071928e-01]\n",
      " [3.12625303e-08]\n",
      " [1.14172767e-03]\n",
      " [7.60076106e-01]\n",
      " [9.70607758e-01]\n",
      " [9.93706822e-01]\n",
      " [7.12871075e-01]\n",
      " [9.63944376e-01]\n",
      " [5.60018292e-04]\n",
      " [2.86015987e-01]\n",
      " [7.94189274e-01]\n",
      " [2.60372721e-02]\n",
      " [9.97092128e-01]\n",
      " [8.10517848e-01]\n",
      " [8.98981810e-01]\n",
      " [9.99245882e-01]\n",
      " [1.16558711e-03]\n",
      " [9.97077167e-01]\n",
      " [9.82922673e-01]\n",
      " [3.27160954e-03]\n",
      " [3.86569381e-01]\n",
      " [9.97803211e-01]\n",
      " [7.48659551e-01]\n",
      " [9.98444557e-01]\n",
      " [9.81707513e-01]\n",
      " [4.42350358e-02]\n",
      " [9.97378945e-01]\n",
      " [3.51590948e-04]\n",
      " [9.98945236e-01]\n",
      " [9.63478267e-01]\n",
      " [9.84068751e-01]\n",
      " [2.67815620e-01]\n",
      " [9.98595536e-01]\n",
      " [8.93075708e-07]\n",
      " [9.99609768e-01]\n",
      " [9.97046649e-01]\n",
      " [1.62450224e-01]\n",
      " [8.88354361e-01]\n",
      " [9.94800568e-01]\n",
      " [5.77862847e-05]\n",
      " [1.34686843e-01]\n",
      " [9.61213589e-01]\n",
      " [8.73749971e-01]\n",
      " [9.98808622e-01]\n",
      " [9.33683097e-01]\n",
      " [4.82896157e-02]\n",
      " [9.99827385e-01]\n",
      " [7.57602096e-01]\n",
      " [2.58564285e-07]\n",
      " [9.98329759e-01]\n",
      " [9.98481452e-01]\n",
      " [9.93699014e-01]\n",
      " [1.67742800e-02]\n",
      " [2.66522259e-01]\n",
      " [8.51666212e-01]\n",
      " [4.22157533e-03]\n",
      " [9.86824095e-01]\n",
      " [2.60602564e-01]\n",
      " [3.08302432e-01]\n",
      " [9.88187611e-01]\n",
      " [9.88572776e-01]\n",
      " [3.88992385e-06]\n",
      " [6.73308410e-03]\n",
      " [9.90033448e-01]\n",
      " [7.86828399e-01]\n",
      " [9.99521196e-01]\n",
      " [9.62712407e-01]\n",
      " [2.59161759e-02]\n",
      " [9.69765186e-01]\n",
      " [7.20431685e-01]\n",
      " [9.86439049e-01]\n",
      " [1.21777415e-01]\n",
      " [8.33297372e-01]\n",
      " [9.99899566e-01]\n",
      " [3.60561331e-04]\n",
      " [9.98486698e-01]\n",
      " [8.85377303e-02]\n",
      " [3.16038349e-04]\n",
      " [9.98905838e-01]\n",
      " [3.96643271e-04]\n",
      " [4.75611398e-03]\n",
      " [9.93427575e-01]\n",
      " [9.98990893e-01]\n",
      " [5.81240714e-01]\n",
      " [9.34868932e-01]\n",
      " [9.59266782e-01]\n",
      " [1.43067792e-01]\n",
      " [9.96407390e-01]\n",
      " [9.98617530e-01]\n",
      " [9.97508824e-01]\n",
      " [9.82985437e-01]\n",
      " [6.25862956e-01]\n",
      " [7.92277455e-02]\n",
      " [9.46751833e-01]\n",
      " [4.67417762e-02]\n",
      " [4.25219441e-05]\n",
      " [2.91997250e-02]\n",
      " [9.93492544e-01]\n",
      " [9.94392931e-01]\n",
      " [9.97009397e-01]\n",
      " [9.72124517e-01]\n",
      " [9.75014448e-01]\n",
      " [9.99800086e-01]\n",
      " [9.48247254e-01]\n",
      " [2.26608992e-01]\n",
      " [1.64836747e-04]\n",
      " [9.94234145e-01]\n",
      " [6.92974150e-01]\n",
      " [9.95386600e-01]\n",
      " [9.91600215e-01]\n",
      " [9.78837255e-03]\n",
      " [8.25173616e-01]\n",
      " [9.94028389e-01]\n",
      " [9.99087751e-01]\n",
      " [3.10284132e-03]\n",
      " [2.54144357e-03]\n",
      " [9.36232567e-01]\n",
      " [9.94417489e-01]\n",
      " [9.99941230e-01]\n",
      " [1.01089187e-01]\n",
      " [1.43531384e-02]\n",
      " [9.95510459e-01]\n",
      " [9.99168098e-01]\n",
      " [9.98869777e-01]\n",
      " [9.90436971e-01]\n",
      " [9.92736936e-01]\n",
      " [1.85926375e-03]\n",
      " [9.92173791e-01]\n",
      " [9.97813046e-01]\n",
      " [9.12137985e-01]\n",
      " [8.25196564e-01]\n",
      " [8.66053820e-01]\n",
      " [9.97998893e-01]\n",
      " [9.99135554e-01]\n",
      " [9.81855214e-01]\n",
      " [1.16138055e-03]\n",
      " [1.90854400e-01]\n",
      " [9.98127103e-01]\n",
      " [9.81372654e-01]\n",
      " [9.40211713e-01]\n",
      " [7.57182360e-01]\n",
      " [9.97353017e-01]\n",
      " [9.97091472e-01]\n",
      " [9.79709864e-01]\n",
      " [1.58924799e-04]\n",
      " [5.25090933e-01]\n",
      " [1.05092906e-04]\n",
      " [2.70175282e-02]\n",
      " [7.80235918e-04]]\n"
     ]
    }
   ],
   "source": [
    "#Making prediction\n",
    "\n",
    "P=model.predict(X_test)\n",
    "print(P)"
   ]
  },
  {
   "cell_type": "code",
   "execution_count": 25,
   "id": "d215af2f",
   "metadata": {},
   "outputs": [
    {
     "name": "stdout",
     "output_type": "stream",
     "text": [
      "[1. 1. 1. 1. 1. 0. 0. 1. 1. 1. 1. 1. 0. 1. 0. 1. 1. 1. 0. 1. 0. 1. 1. 1.\n",
      " 1. 1. 1. 1. 1. 0. 0. 1. 0. 1. 1. 0. 1. 1. 0. 1. 0. 0. 1. 1. 1. 1. 1. 0.\n",
      " 0. 1. 0. 1. 1. 1. 1. 0. 1. 1. 0. 0. 1. 1. 1. 1. 0. 1. 0. 1. 1. 1. 0. 1.\n",
      " 0. 1. 1. 0. 1. 1. 0. 0. 1. 1. 1. 1. 0. 1. 1. 0. 1. 1. 1. 0. 0. 1. 0. 1.\n",
      " 0. 0. 1. 1. 0. 0. 1. 1. 1. 1. 0. 1. 1. 1. 0. 1. 1. 0. 1. 0. 0. 1. 0. 0.\n",
      " 1. 1. 1. 1. 1. 0. 1. 1. 1. 1. 1. 0. 1. 0. 0. 0. 1. 1. 1. 1. 1. 1. 1. 0.\n",
      " 0. 1. 1. 1. 1. 0. 1. 1. 1. 0. 0. 1. 1. 1. 0. 0. 1. 1. 1. 1. 1. 0. 1. 1.\n",
      " 1. 1. 1. 1. 1. 1. 0. 0. 1. 1. 1. 1. 1. 1. 1. 0. 1. 0. 0. 0.]\n"
     ]
    }
   ],
   "source": [
    "P=np.round(P).flatten()\n",
    "print(P)"
   ]
  },
  {
   "cell_type": "markdown",
   "id": "80a8ab53",
   "metadata": {},
   "source": [
    "# Compare the accuracy"
   ]
  },
  {
   "cell_type": "code",
   "execution_count": 26,
   "id": "1bc3fd64",
   "metadata": {},
   "outputs": [
    {
     "name": "stdout",
     "output_type": "stream",
     "text": [
      "Manually calculated accuracy: 0.9414893617021277\n",
      "6/6 [==============================] - 0s 3ms/step - loss: 0.1396 - accuracy: 0.9415\n",
      "Evaluate output: [0.139577254652977, 0.9414893388748169]\n"
     ]
    }
   ],
   "source": [
    "print(\"Manually calculated accuracy:\",np.mean(P==y_test))\n",
    "print(\"Evaluate output:\",model.evaluate(X_test,y_test))"
   ]
  },
  {
   "cell_type": "markdown",
   "id": "d01f0ade",
   "metadata": {},
   "source": [
    "# Saving and Loading a Model"
   ]
  },
  {
   "cell_type": "code",
   "execution_count": 30,
   "id": "a3bcbb52",
   "metadata": {},
   "outputs": [],
   "source": [
    "model.save('Linear_classifications.h5')"
   ]
  },
  {
   "cell_type": "code",
   "execution_count": 34,
   "id": "fd94b389",
   "metadata": {},
   "outputs": [
    {
     "name": "stdout",
     "output_type": "stream",
     "text": [
      "Linear_classifications.h5 exists\n"
     ]
    }
   ],
   "source": [
    "import os\n",
    "\n",
    "# Check if the model file exists\n",
    "model_filename = 'Linear_classifications.h5'  # replace with your actual model file name\n",
    "if os.path.isfile(model_filename):\n",
    "    print(f'{model_filename} exists')\n",
    "else:\n",
    "    print(f'{model_filename} does not exist')\n"
   ]
  },
  {
   "cell_type": "code",
   "execution_count": 35,
   "id": "76474a69",
   "metadata": {},
   "outputs": [
    {
     "name": "stdout",
     "output_type": "stream",
     "text": [
      "Full path: C:\\Users\\hi\\Desktop\\DS review\\Linear_classifications.h5\n"
     ]
    }
   ],
   "source": [
    "import os\n",
    "\n",
    "# Specify the model file name\n",
    "model_filename = 'Linear_classifications.h5'  # replace with your actual model file name\n",
    "\n",
    "# Check if the file exists and print its full path\n",
    "if os.path.isfile(model_filename):\n",
    "    full_path = os.path.abspath(model_filename)\n",
    "    print(f'Full path: {full_path}')\n",
    "else:\n",
    "    print(f'{model_filename} does not exist')\n"
   ]
  },
  {
   "cell_type": "code",
   "execution_count": null,
   "id": "2e990e04",
   "metadata": {},
   "outputs": [],
   "source": [
    "model= tf.keras.models.load_model('Linear_classifications.h5')\n",
    "print(model.layers)\n",
    "model.evaluate"
   ]
  }
 ],
 "metadata": {
  "kernelspec": {
   "display_name": "Python 3 (ipykernel)",
   "language": "python",
   "name": "python3"
  },
  "language_info": {
   "codemirror_mode": {
    "name": "ipython",
    "version": 3
   },
   "file_extension": ".py",
   "mimetype": "text/x-python",
   "name": "python",
   "nbconvert_exporter": "python",
   "pygments_lexer": "ipython3",
   "version": "3.11.4"
  }
 },
 "nbformat": 4,
 "nbformat_minor": 5
}
